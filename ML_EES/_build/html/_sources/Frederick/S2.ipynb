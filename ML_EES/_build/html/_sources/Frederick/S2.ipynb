{
  "nbformat": 4,
  "nbformat_minor": 0,
  "metadata": {
    "colab": {
      "provenance": [],
      "toc_visible": true
    },
    "kernelspec": {
      "name": "python3",
      "display_name": "Python 3"
    },
    "language_info": {
      "name": "python"
    }
  },
  "cells": [
    {
      "cell_type": "markdown",
      "source": [
        "# Simple Machine Learning Algorithms for Classification Tasks\n",
        "\n",
        "This week we will introduce simple ML models particularly useful for classification tasks. Classification tasks aim to automatically assign different labels to new data based on the multivariate characteristics of the training dataset. We will introduce three possible approaches for such tasks: Support Vector Machine (SVM), Random Forest (RF) and Ensemble Models.\n",
        "\n",
        "Your learning objectives for this week include:\n",
        "\n",
        "\n",
        "1.   Understand the applicability of SVMs\n",
        "2.   Know how to train and interpret a decision tree\n",
        "3.   Know how to choose a regularization hyperparameter\n",
        "4.   Define a RF model\n",
        "5.   Know some advantages or drawbacks of ensemble modeling\n",
        "6.   Understand Feature Importance"
      ],
      "metadata": {
        "id": "5mS11sYn4WGW"
      }
    },
    {
      "cell_type": "markdown",
      "source": [
        "## Support Vector Machines\n"
      ],
      "metadata": {
        "id": "7k8XgfD66qW3"
      }
    },
    {
      "cell_type": "markdown",
      "source": [
        "![SVM_cartoon.jpeg](https://github.com/tbeucler/2023_MLEES_JB/blob/main/ML_EES/Frederick/Figures/SVM_cartoon.jpeg?raw=1)"
      ],
      "metadata": {
        "id": "FKXKHnrfhOOT"
      }
    },
    {
      "cell_type": "markdown",
      "source": [
        "Photo credit: **Machine Learning for Everyone**, vas3k's blog. ([link](https://vas3k.com/blog/machine_learning/))"
      ],
      "metadata": {
        "id": "_9ypAATbepDL"
      }
    },
    {
      "cell_type": "markdown",
      "source": [
        "### **Key points**\n",
        "\n",
        "*   SVM aims to find the decision boundary that linearly separates two data classes in feature space. (*Hard margin classification*)\n",
        "\n",
        "*   The *decision boundary* should maximise the distance between the boundary and the data point in each class closest to the line.\n",
        "\n",
        "*   Hard margin classification usually results in a model that is oversensitive to outliers. Allowing margin violations over a certain region around the boundary should result in a more generalisable model. (*Soft margin classification*)\n",
        "\n",
        "*   We use a *regularisation parameter* (C) to control the number of margin violations allowed when finding the decision boundary. Smaller C = more misclassifications.\n",
        "\n",
        "*   For real-world data that is not linearly separable, we apply the *kernel trick*. The idea is to transform the data into linearly separable forms so that the SVM can be used.\n",
        "\n",
        "*   Polynomial, Gaussian RBF, and Sigmoid kernels are the three kernels we will discuss in class.\n",
        "\n",
        "*   The SVM and the decision boundary can be used in regression tasks. Margin violations should be minimised when we use SVMs for regression tasks.\n"
      ],
      "metadata": {
        "id": "04GgplTdAyCK"
      }
    },
    {
      "cell_type": "markdown",
      "source": [
        "### **Environmental Sciences Applications**\n",
        "\n",
        "Multiclass SVMs can be useful when your problem involves labelling different categories of data from a large dataset. One example is land cover classification from remote sensing data (e.g., B Rokni Deilmai et al 2014).\n",
        "\n",
        "Assuming you have a large earth image dataset with satellite pictures taken from different channels and instruments, and your research task is to find the best way to classify new images into forest, desert etc automatically. The SVM can be used to find the decision boundary that best separates this multivariate dataset.\n",
        "\n",
        "Reference:\n",
        "B Rokni Deilmai et al 2014 IOP Conf. Ser.: Earth Environ. Sci. 20 012052\n",
        "([Link to Paper](https://iopscience.iop.org/article/10.1088/1755-1315/20/1/012052))"
      ],
      "metadata": {
        "id": "PKTlDQpJBksD"
      }
    },
    {
      "cell_type": "markdown",
      "source": [
        "**Exercise: SVMs for flower classification**\n",
        "We use scikit-learn to build different SVMs to classify flowers in the proprocessed iris dataset. You will experiment with different regularization parameters and SVM algorithms to understand how they change the classifier performance.\n",
        "\n",
        "\n",
        "\n",
        "1.   Load the iris dataset with scikit-learn\n",
        "2.   Train different SVM models on the preprocessed dataset\n",
        "3.   Learn how to visualize the decision boundary with matplotlib\n",
        "4.   Change regularization parameters and compare model skills\n",
        "\n"
      ],
      "metadata": {
        "id": "naR6eTdVExNj"
      }
    },
    {
      "cell_type": "markdown",
      "source": [
        "## Decision Trees\n",
        "\n",
        "Decision trees are a type of simple ML algorithm suitable for both classification and regression tasks. Decision trees are highly intuitive and interpretable since they are essentially a set of multiple decision functions. This interpretability makes decision trees useful for simple ML tasks, compared to complex neural networks that we will introduce in the upcoming weeks.\n"
      ],
      "metadata": {
        "id": "b4rNgqjLB68e"
      }
    },
    {
      "cell_type": "markdown",
      "source": [
        "Here is an example decision tree applied to an environmental science data. The diagram is taken from Figure 1 of Gagne et al. (2009).\n",
        "\n",
        "![decision_tree_example.gif](https://github.com/tbeucler/2023_MLEES_JB/blob/main/ML_EES/Frederick/Figures/decision_tree_example.gif?raw=1)"
      ],
      "metadata": {
        "id": "58nKhETAcOi-"
      }
    },
    {
      "cell_type": "markdown",
      "source": [
        "### **Key points**\n",
        "\n",
        "*   Decision trees comprise multiple nodes and branches. Different nodes encode decisions based on input features.\n",
        "\n",
        "*   Scikit-learn uses the CART algorithm to divide data, create new decision nodes (growing the trees)\n",
        "\n",
        "*   The CART algorithm finds the optimal data features and thresholds that can reduce impurity in the split samples (classification) or MSE (regression) the most. Data impurity can be measured by the Gini impurity values.\n",
        "\n",
        "*   Training stops when the CART algorithm cannot find new rules to reduce impurity/entropy, or when the maximum depth (a tuneable hyperparameter) is reached.\n",
        "\n",
        "*   Similar to SVMs, there are different regularisation hyperparameters in the scikit-learn implementation that need to be tuned to get a model that generalizes well to unseen data. (see Geron p.181-182 for details)\n",
        "\n",
        "*   It is particularly important to tune the regularisation hyperparameter when using decision trees since they are highly susceptible to overfitting."
      ],
      "metadata": {
        "id": "dJ5X8P2SB-a2"
      }
    },
    {
      "cell_type": "markdown",
      "source": [
        "### **Environmental Sciences Applications**\n",
        "\n",
        "Decision trees can be useful when your problem when you have a multiclass classification problem. One example is to classify and differentiate types of thunderstorms from weather model outputs or weather radar images (e.g., Gagne et al 2009).\n",
        "\n",
        "For this example, the authors measured different aspects of storm morphology (shape, size etc.), rain intensity measurements, and wind measurements. The measurements of different physical variables provide the list of features for the decision tree algorithm. The trained decision trees contain the optimal thresholds for different features that can separate different thunderstorms into pre-defined categories.\n",
        "\n",
        "\n",
        "Reference:\n",
        "Gagne, D., A. McGovern, and J. Brotzge, 2009: Classification of convective areas using decision trees. J. Atmos. Oceanic Technol., 26, 1341–1353\n",
        "([Link to Paper](https://journals.ametsoc.org/view/journals/atot/26/7/2008jtecha1205_1.xml))"
      ],
      "metadata": {
        "id": "1wka9DP7CcCi"
      }
    },
    {
      "cell_type": "markdown",
      "source": [
        "**Exercise: Train and fine tune a decision tree on a synthetic dataset**\n",
        "How to find the best set of hyperparameters for a single decision tree for a dataset?\n",
        "\n",
        "1.   Load the moons dataset and split the data into train/test sets\n",
        "2.   Visualize the split data to make sure the split is done correctly\n",
        "3.   Conduct hyperparameter search to find the best parameters leading to the best performing tree\n",
        "4.   Compare classification accuracy"
      ],
      "metadata": {
        "id": "YHaO7HLGGMjM"
      }
    },
    {
      "cell_type": "markdown",
      "source": [
        "## Random Forests and Ensemble Modeling\n",
        "\n",
        "This section explores combining multiple ML models to improve the overall performance and generalizability of the ML predictions. Ensemble learning combines the predictions from a diverse set of models, which improves the robustness and trustworthiness of the ML predictions. This chapter focuses on Random Forest, an ensemble of decision trees."
      ],
      "metadata": {
        "id": "F74ZQjGaCsOO"
      }
    },
    {
      "cell_type": "markdown",
      "source": [
        "### **Key points**\n",
        "\n",
        "*   The simplest ensemble model architecture is *voting classifier*. It combines several models with diverse architectures. The majority class in the classification outputs will be the output of the overall model.\n",
        "\n",
        "*   The heterogeneity in voting classifiers is *architecture-based*. Diversity in predictions can also be achieved by using the same ML algorithm to train different models on different subsets of data.\n",
        "\n",
        "*   There are two ways of sampling training data to create sets of ML models. They are *bagging* (with replacement) and *pasting* (without replacement).\n",
        "\n",
        "*   Random Forest (RF) combines multiple decision trees (usually with bagging) on random subsets of training data. Random forest models allow greater tree diversity and generally make better predictions for new data.\n",
        "\n",
        "*   To interpret RF models, scikit-learn provides a feature importance measurement, which amounts to how a specific feature reduces gini impurity amongst all trees.\n",
        "\n",
        "*   The practice of boosting provides additional improvements in model performance and generalisation. Boosting is to train different ensemble models sequentially, with the later models specifically tasked to correct the error in the earlier trained models. *Gradient-boosting trees* are a good example of boosting for decision trees algorithms."
      ],
      "metadata": {
        "id": "L3xXVwLxC5Ms"
      }
    },
    {
      "cell_type": "markdown",
      "source": [
        "### **Environmental Sciences Applications**\n",
        "\n",
        "Random Forests can be used in similar environmental science problems as decision trees. We provide a practical exercise of using RF for real environmental science problems, based on a recent peer-reviewed paper (Tonini et al. 2020). The problem at hand is to create a susceptibility map of wildfires in Liguria, Italy. We will provide you a dataset with various environmental data (vegetation, topography, land use etc.). With this dataset, you will try to train an ensemble classification model and create a wildfire susceptibility map.\n",
        "\n",
        "Here is the wildfire susceptibility map in Tonini et al. (2020) that you will try to recreate in the exercise.\n",
        "\n",
        "![RF_map.jpg](https://github.com/tbeucler/2023_MLEES_JB/blob/main/ML_EES/Frederick/Figures/RF_map.jpg?raw=1)\n",
        "\n",
        "Reference:\n",
        "Tonini, M., D’Andrea, M., Biondi, G., Degli Esposti, S., Trucchia, A., & Fiorucci, P. (2020). A Machine Learning-Based Approach for Wildfire Susceptibility Mapping. The Case Study of the Liguria Region in Italy. Geosciences.\n",
        "\n",
        "([Link to Paper](https://www.mdpi.com/2076-3263/10/3/105))"
      ],
      "metadata": {
        "id": "gZkV26xZDUUA"
      }
    }
  ]
}