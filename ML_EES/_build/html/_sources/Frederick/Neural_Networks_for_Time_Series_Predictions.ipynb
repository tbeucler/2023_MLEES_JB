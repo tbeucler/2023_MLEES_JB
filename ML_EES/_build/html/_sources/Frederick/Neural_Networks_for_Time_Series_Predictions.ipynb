{
  "nbformat": 4,
  "nbformat_minor": 0,
  "metadata": {
    "colab": {
      "provenance": []
    },
    "kernelspec": {
      "name": "python3",
      "display_name": "Python 3"
    },
    "language_info": {
      "name": "python"
    }
  },
  "cells": [
    {
      "cell_type": "markdown",
      "source": [
        "# Neural Networks for Time Series Predictions\n",
        "\n",
        "This week, we will introduce ML approaches for time series data. Time series data documents the temporal changes of variables and is very common when dealing with instrumental data. This chapter will introduce the use of Recurrent Neural Networks and 1D Convolutional Neural Networks to predict future changes in variables with time.\n",
        "\n",
        "Learning Objectives for this chapter include:\n",
        "\n",
        "\n",
        "*   Define a recurrent neural network\n",
        "*   Distinguish recurrent from convolutional neural networks\n",
        "*   Discuss the forecasting of environmental time series\n",
        "*   Define natural language processing\n",
        "*   Know at least three algorithms to process time-series\n",
        "\n"
      ],
      "metadata": {
        "id": "XtPXD_OnqWwx"
      }
    },
    {
      "cell_type": "markdown",
      "source": [
        "## Processing Sequences using RNNs and CNNs"
      ],
      "metadata": {
        "id": "_rjXUBExyJJ1"
      }
    },
    {
      "cell_type": "markdown",
      "source": [
        "![RNN_schematic.jpg](./Figures/RNN_schematic.jpg)"
      ],
      "metadata": {
        "id": "nb-RV20Hxxto"
      }
    },
    {
      "cell_type": "markdown",
      "source": [
        "**Caption** LSTM Model for time series prediction for environmental sciences\n",
        "\n",
        "**Source** Figure 1 from Mishra et al. (2020; [link to paper](https://www.sciencedirect.com/science/article/pii/S2352484719308546#fig1))"
      ],
      "metadata": {
        "id": "X0Hz-Lt1r3nJ"
      }
    },
    {
      "cell_type": "markdown",
      "source": [
        "**Key concepts of RNNs:**\n",
        "\n",
        "- **Unrolling the network through time:** This is a way of representing an RNN as a feedforward neural network, where each time step is represented by a separate layer of neurons.\n",
        "\n",
        "- **Backpropagation through time (BPTT):** This is a way of training RNNs that takes into account the fact that the outputs of the network at a one-time step depend on the outputs of the network at previous time steps.\n",
        "\n",
        "- **Vanishing and exploding gradients:** These are two problems that can occur when training RNNs, and they can make it difficult for the network to learn long-term dependencies.\n",
        "\n",
        "- **Long short-term memory (LSTM) and gated recurrent units (GRUs):** These are two types of RNN cells that are designed to address the vanishing and exploding gradients problems.\n"
      ],
      "metadata": {
        "id": "WhA5IsNqr_gz"
      }
    },
    {
      "cell_type": "markdown",
      "source": [
        "**Take home messages**\n",
        "\n",
        "*   Time series forecasting in environmental sciences can be framed in different ways: *Sequence-to-sequence*, *sequence-to-vector*, *vector-to-sequence*\n",
        "\n",
        "*   The *encoder-decoder* structure is essentially a sequence-to-vector model followed by a vector-to-sequence model.\n",
        "\n",
        "*   A recurrent node unrolling through time => the most straightforward RNN architecture\n",
        "\n",
        "*   Stacking multiple layers of recurrent nodes gives you *deep RNNs*, which may have better skills than simple RNNs\n",
        "\n",
        "*   Vanilla RNNs may encounter problems when dealing with long-time series data, such as *unstable gradients* and *short-term memory* problems.\n",
        "\n",
        "*   Using the *Long Short-Term Memory (LSTM)* layers or *Gated Recurrent Units (GRU)* layers in your architecture helps to alleviate the above problems.\n",
        "\n",
        "*   These solutions split the available information into long-term and short-term components and learn which part of long-term information to include in the prediction during training.\n",
        "\n",
        "*   Time series predictions can also be produced with 1D convolutional networks.\n",
        "\n",
        "**Inputs and Outputs Configurations for RNNs:**\n",
        "\n",
        "| Configuration   |  Discussion |\n",
        "|----------|:-------------:|\n",
        "| Sequence-to-sequence networks |  Predict outputs for each input in a sequence, useful for tasks like predicting stock prices |\n",
        "| Sequence-to-vector networks | Output a single result for a sequence, suitable for tasks like sentiment analysis |\n",
        "| Vector-to-sequence networks | generate a sequence based on a constant input, such as generating captions for an image |\n",
        "| Encoder–Decoder networks | sequence-to-vector and vector-to-sequence components, useful for translation tasks|\n"
      ],
      "metadata": {
        "id": "5YoW1oIM0aAi"
      }
    },
    {
      "cell_type": "markdown",
      "source": [
        "**Memory cells:**\n",
        "* A part of a neural network that preserves some state across time steps is called a memory cell. It is called \"memory cells\" because past information impacts the neuron outputs.\n",
        "* A single recurrent neuron, or a layer of recurrent neurons, is a very basic cell, capable of learning only short patterns, typically aroundd 10 steps long.\n",
        "* The LSTM and GRU architecture contain more complex cells with the ability to learn longer patterns.\n",
        "\n",
        "> Generally, a cell's state at time step \"t\" is denoted as $h(t)$ and is a function of inputs at\n",
        "that step and its state at the previous step: $h(t) = f(h(t–1), x(t))$. The output at time step \"t,\"\n",
        "denoted as $y(t)$, depends on the previous state and current inputs.\n",
        "\n"
      ],
      "metadata": {
        "id": "HocGBJEksyEb"
      }
    },
    {
      "cell_type": "markdown",
      "source": [
        "Here we show an schematic diagram of a simple RNN memory cell and a complex cell in a LSTM model (Figure 1 in Rassem et al. 2017). In a simple RNN cell, cell output at a previous time step is stored and added to the input features list, which is then used for predictions.\n",
        "\n",
        "![RNN_LSTM_cells.png](./Figures/RNN_LSTM_cells.png)\n"
      ],
      "metadata": {
        "id": "XDr2Jh7iumT0"
      }
    },
    {
      "cell_type": "markdown",
      "source": [
        "**How to train RNNs**\n",
        "- Backpropagation through time (BPTT): Unroll the RNN through time, creating a temporal\n",
        "sequence, and then apply regular backpropagation.\n",
        "- The gradients of the cost function are propagated backward through the\n",
        "unrolled network, and the model parameters are updated using these gradients.\n",
        "- The gradients flow backward through all the outputs used by the cost function, not solely through the final output."
      ],
      "metadata": {
        "id": "YKdZ-wmdxFfL"
      }
    },
    {
      "cell_type": "markdown",
      "source": [
        "**Baseline metrics:**\n",
        "- Naive forecasting (predicting the last value in each series)\n",
        "- Fully connected neural network"
      ],
      "metadata": {
        "id": "AAg9FCoayJ73"
      }
    },
    {
      "cell_type": "markdown",
      "source": [
        "**Forecasting Several Time Steps Ahead:**\n",
        "\n",
        "Two approaches:\n",
        "- Making sequential predictions one step at a time.\n",
        "- Predicting all future values at once.\n",
        "\n",
        "> LSTM cells: This specialized cell improves upon the RNN cell in solving the short-term memory problem of that simple cell. The LSTM cell has gates (forget, input, and output) that control information flow using logistic activation.\n",
        ">> The Forget gate $f(t)$ removes unnecessary information from the long-term state. Input gate $i(t)$ controls which parts of the new information $g(t)$ should be added to the long-term state. Output gate $o(t)$ controls which parts of the long-term state should be read and output.\n",
        "\n",
        ">> The main layer outputs $g(t)$, analyzing current inputs and the previous short-term state.\n",
        "Three gate controllers (forget gate f(t), input gate i(t), and output gate o(t)) control information flow using logistic activation.\n",
        "\n",
        ">> The LSTM cell excels at recognizing, storing, preserving, and extracting\n",
        "important inputs over time, making it highly successful in capturing long-term\n",
        "patterns in various data types such as time series, texts, and audio recordings.\n",
        "\n",
        "![LSTMcell.jpg](./Figures/LSTMcell.jpg)"
      ],
      "metadata": {
        "id": "610kFlJ3yImc"
      }
    },
    {
      "cell_type": "markdown",
      "source": [
        "> Gated Recurrent Unit (GRU) Cells:\n",
        " The GRU cell is a simplified version of the LSTM cell but performs similarly well.\n",
        " >> Key simplifications include merging both state vectors into a single vector $h(t)$, a single gate controller $z(t)$ governing both the forget and input gates, and the absence of an output gate.\n",
        "\n",
        " >> A new gate controller $r(t)$ determines which part of the previous\n",
        "state is revealed to the main layer $g(t)$.\n",
        "\n",
        " >> Keras provides a keras.layers.GRU layer, making its implementation straightforward by replacing SimpleRNN or LSTM with GRU.\n",
        "\n",
        "![GRUcell.jpg](./Figures/GRUcell.jpg)\n",
        "\n",
        "\n",
        "While LSTM and GRU cells contribute significantly to the success of RNNs, they still face challenges in learning long-term patterns in sequences of 100 or more time steps, such as audio samples or long sentences. One approach to address this limitation is to *shorten input sequences*, potentially by using 1D convolutional layers.\n"
      ],
      "metadata": {
        "id": "XxZ9eDPU1YZx"
      }
    },
    {
      "cell_type": "markdown",
      "source": [
        "**Environmental Sciences Applications**\n",
        "\n",
        "The neural network architectures introduced in this chapter can be useful when your problem involves predicting the time evolution of different physical variables. One example is using LSTM to predict river streamflow in the western US (e.g., Hunt et al. 2022).\n",
        "\n",
        "Assuming you have a large gridded dataset with time evolution of environmental properties (e.g., topography, vegetation, weather conditions, rainfall predictions), and your research task is to evaluate the likelihood of flooding in the next 12 hours, you can use RNN or similar models to predict the changes in water levels at particular measuring sites. These models make predictions using environmental context from the gridded data and water level predictions at the previous time step.\n",
        "\n",
        "Reference:\n",
        "Hunt, K. M. R., Matthews, G. R., Pappenberger, F., & Prudhomme, C. (2022). Using a long short-term memory (LSTM) neural network to boost river streamflow forecasts over the western united states. Hydrology and Earth System Sciences, 26(21), 5449-5472.\n",
        "([Link to Paper](https://hess.copernicus.org/articles/26/5449/2022/hess-26-5449-2022.html))"
      ],
      "metadata": {
        "id": "UYqcjLdE1CLG"
      }
    },
    {
      "cell_type": "markdown",
      "source": [
        "**Exercise: Composing Music with RNNs / 1D CNNs**\n",
        "\n",
        "The first exercise of this chapter is to use RNNs and 1D CNNs to create new Chorales in the style of Bach. Can you tune the model hyperparameters to create a track that is listenable?\n",
        "\n",
        "1.   Load and preprocess a dataset storing multiple existing Bach chorales\n",
        "2.   Train a small WaveNet to create new chorale in time series format\n",
        "3.   Evaluate model skills\n",
        "4.   Repeat the prediction task with RNNs\n"
      ],
      "metadata": {
        "id": "jgCF6VBCf0YS"
      }
    },
    {
      "cell_type": "markdown",
      "source": [
        "## Transformers and Attention"
      ],
      "metadata": {
        "id": "-9vmG77EjgUv"
      }
    },
    {
      "cell_type": "markdown",
      "source": [
        "**Key points**\n",
        "\n",
        "*   The main disavantages of the RNNs introduced in the previous section is that RNNs have limited capacities to capture long-range dependencies and can be hard to interpret.\n",
        "\n",
        "*   Attention mechanism is a useful technique to improve upon the traditional RNNs.\n",
        "\n",
        "*   The attention layer consists of a encoding part, a decoding part, and a small neural network (alignment model) to find the similarity between different subsections of inputs and outputs.\n",
        "\n",
        "*   The similarity measurements in the model hidden state are interpretable and reveal information on which part of the inputs influences the model prediction the most.\n",
        "\n",
        "*   Attention architecture can be used to process visual images. Visual attention informs which part of a picture influences model predictions.\n",
        "\n",
        "*   The main advantages of incoporating attention mechanism are (a) ability to capture long-range dependencies, (b) interpretable, and (c) potentially improve model prediction skills.\n",
        "\n",
        "*   The attention layer is the vital part of a novel architecture proved to be useful for time series tasks - Transformers.\n",
        "\n",
        "*   Novel aspects of transformers include positional encoding and multi-head attention.\n",
        "\n",
        "*   Using Natural Language Processing tasks as an example, multihead attention trains different iterations of self-attention that captures different long-range dependencies within a sentence.\n",
        "\n",
        "* The multihead attention module will then combine different similarity matrices and provide the final attention output from 0 to 1."
      ],
      "metadata": {
        "id": "rsBl9r3Ohhnf"
      }
    },
    {
      "cell_type": "markdown",
      "source": [
        "**Attention Mechanism**\n",
        "\n",
        "- Allows the decoder to focus on relevant words from the\n",
        "encoder at each time step.\n",
        "- Mitigates the short-term memory limitations of traditional RNNs especially for long sentences.\n",
        "- All encoder outputs are sent to the decoder and at each time step, the\n",
        "decoder's memory cell computes a weighted sum of these outputs determining the\n",
        "focus on specific words.\n",
        "- These weights containing information of what previous words to focus on are generated by an alignment model that is a small neural network trained parallel to the Encoder-Decoder model.\n",
        "\n",
        "There are two main types of attention:\n",
        "1. Bahdanau attention (concatenative attention): Combines encoder output with\n",
        "the decoder's previous hidden state.\n",
        "2. Luong attention (multiplicative attention): Computes the dot product of\n",
        "encoder outputs and the decoder's hidden state. The weights derived from\n",
        "this dot product are obtained through a softmax layer.\n",
        "\n",
        "It has been demonstrated that dot product variants outperformed concatenative attention."
      ],
      "metadata": {
        "id": "NVNqkUCJ3N1k"
      }
    },
    {
      "cell_type": "markdown",
      "source": [
        "> Models originally developed for language tasks has resulted in breakthroughs in environmental sciences studies. These models can be adapted to environmental sciences because the goal and data structure of time series prediction tasks are very similar to human languages.\n",
        "\n",
        ">> Here we show a comparison of different ML model architectures in predicting water quality (Yang et al. 2021). Notice that adding an attention layer to the same background moddel architecture yields substantial reduction in the model error (compare the LSTM and LSTM-Attention results)\n",
        "\n",
        "![LSTM_attention.jpg](./Figures/LSTM_attention.jpg)\n"
      ],
      "metadata": {
        "id": "yfjsecmo4n_T"
      }
    },
    {
      "cell_type": "markdown",
      "source": [
        "**Transformers**\n",
        "\n",
        "- Revolutionized neural machine translation (NMT) without the need of recurrent or convolutional layers for translation tasks\n",
        "- It uses only attention mechanisms, yet achieved state-of-the-art\n",
        "performance in translation tasks and exhibited faster training and enhanced parallelization capabilities\n",
        "- In the Transformer architecture, the encoder takes input sentences represented as sequences of word IDs. It encodes each word into a 512-dimensional representation.\n",
        "- The decoder takes the target sentence as input and receives the encoder's outputs.\n",
        "- The decoder outputs probabilities for each possible next word at each time step. The decoder predicts subsequent words without target inputs, relying on previously generated words until an end-of-sequence token is produced.\n",
        "- The key components include two embedding layers, skip connections, layer\n",
        "normalization, feed-forward modules, and a softmax activation output layer.\n",
        "- The novel components are the Multi-Head Attention layers in both the encoder and decoder.\n",
        "- The encoder's layer encodes relationships between words in the same\n",
        "sentence using self-attention, emphasizing more relevant words.\n",
        "- The decoder's Masked Multi-Head Attention layer ensures each word attends only to preceding words, while the upper Multi-Head Attention layer enables the decoder to attend to words in the input sentence.\n",
        "- Positonal encodings, the second novel component, are dense vectors representing word positions in a sentence. Added to word embeddings, these encodings provide the model with positional information.\n",
        "- Positional encodings are crucial for understanding word order as the\n",
        "Multi-Head Attention layers focus on relationships between words.\n"
      ],
      "metadata": {
        "id": "oQEzo5p26TSp"
      }
    },
    {
      "cell_type": "markdown",
      "source": [
        "![transformer.jpg](./Figures/transformer.jpg)"
      ],
      "metadata": {
        "id": "CXrAdsCa7yYl"
      }
    },
    {
      "cell_type": "markdown",
      "source": [
        "> The use of transformer has become more attractive in environmental sciences problems in recent years\n",
        "\n",
        ">> Alerskans et al. (2022) developed a transformer-based machine learning moddel to predict the surface temperature values for different sites in Denmark.\n",
        "\n",
        ">> In Figure 4 of this paper, the authors compares the bias/errors in the transformer temperature predictions for different seasons to other ML baselines (linear regression, neural network).\n",
        "\n",
        ">> While there are seasonal variabilities in the results, the transformer consistently beats the baselines for all seasons at most of the study sites.\n",
        "\n",
        "![transformer_environmental.jpg](./Figures/transformer_environmental.jpg)"
      ],
      "metadata": {
        "id": "QkbpeYg872Pc"
      }
    },
    {
      "cell_type": "markdown",
      "source": [
        "Reference:\n",
        "\n",
        "1. Rassem, A., El-Beltagy, M., & Saleh, M. (2017). Cross-country skiing gears classification using deep learning. arXiv preprint arXiv:1706.08924.\n",
        "\n",
        "2. Yang, Y., Xiong, Q., Wu, C., Zou, Q., Yu, Y., Yi, H., & Gao, M. (2021). A study on water quality prediction by a hybrid CNN-LSTM model with attention mechanism. Environmental Science and Pollution Research, 28(39), 55129-55139.\n",
        "\n",
        "3. Alerskans, E., Nyborg, J., Birk, M., & Kaas, E. (2022). A transformer neural network for predicting near‐surface temperature. Meteorological Applications, 29(5), e2098."
      ],
      "metadata": {
        "id": "W2a6nS0suWeS"
      }
    }
  ]
}