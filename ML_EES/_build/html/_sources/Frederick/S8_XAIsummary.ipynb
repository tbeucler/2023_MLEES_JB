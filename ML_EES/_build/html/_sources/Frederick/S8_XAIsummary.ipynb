{
  "nbformat": 4,
  "nbformat_minor": 0,
  "metadata": {
    "colab": {
      "provenance": []
    },
    "kernelspec": {
      "name": "python3",
      "display_name": "Python 3"
    },
    "language_info": {
      "name": "python"
    }
  },
  "cells": [
    {
      "cell_type": "markdown",
      "metadata": {
        "id": "view-in-github"
      },
      "source": [
        "<a href=\"https://colab.research.google.com/github/tbeucler/2023_MLEES_JB/blob/main/ML_EES/Frederick/S8_XAIsummary.ipynb\" target=\"_parent\"><img src=\"https://colab.research.google.com/assets/colab-badge.svg\" alt=\"Open In Colab\"/></a>"
      ]
    },
    {
      "cell_type": "markdown",
      "source": [
        "# Explainable AI (XAI)\n",
        "\n",
        "## Learning objectives:\n",
        "1. Understand the importance of XAI\n",
        "2. Distinguish local from global explanation methods\n",
        "3. Distinguish model-agnostic from model-specific methods\n",
        "4. Know how to implement permutation feature importance and partial dependence plots\n",
        "5. Apprehend explanation methods for neural networks.\n",
        "\n",
        "This chapter concerns the steps we can take to make ML model more interpretable or explainable, and introduce some tools we can use to extract physical understanding from data.\n",
        "\n",
        "Broadly speaking, a ML model that is interpretable means that human decision makers understand the cause of a decision and can anticipate the model's predictions. The simplest interpretable model is a simple multiple linear regression (MLR) model.\n",
        "\n",
        "\n",
        "## 1. **When do we need ML models to be explainable?**\n",
        ">>‘Interpretability is the degree to which a human can understand the cause of a decision’ (Miller, 2017)\n",
        "\n",
        "The first question we need to ask ourselves is \"do we really need a model to the interpretable?\" This question stems from the **trade-offs** between predictive accuracy and model interpretability. A MLR model is often less accurate than complex neural networks for complex problems. Neural networks are too complex to be directly interpretable, however.\n",
        "\n",
        ">There is a trade-off between the interpretability of a model and its predictive skill. This trade-off can be visualized with an transparency-accuracy plot (Figure 3 in Wang and Lin 2021)\n",
        "\n",
        "![Pareto_interpretable.jpg](./Figures/Pareto_interpretable.jpg)\n",
        "\n",
        "As shown in the above figure, choosing the *optimal* model depends largely on how transparent you want your model to be (desired transparency), and how large a drop in model skills are you comfortable with (tolerance accuracy loss).\n"
      ],
      "metadata": {
        "id": "UbldirKhyy65"
      }
    },
    {
      "cell_type": "markdown",
      "source": [
        "**Critical decision-making**: The first scenario you would want a model to be interpretable is in the context of high-stakes cases. Medical settings can be one situation where the extra transparency in your models would be very helpful. Can you think of one example where this transparency is not needed?\n",
        "\n",
        "**Human Understanding**: The basic role of a science pratitioner is to discover new knowledge from observations. By analyzing how machine learning models make predictions, we may get some new understanding on, e.g., what differentiates premium wines to cheap ones? It is also possible to use tools to leverage interpretability to extract knowledge embedded in machine learning models (**Extract Additional Insights**)\n",
        "\n",
        "**Increase trust:** AI/ML techniques are relatively new to a lot of different fields, such as weather forecasting. If we can explain how the ML models work in simple terms, forecasters may trust the AL predictions more.\n",
        "\n",
        "**Debugging ML models:** It is difficult to explain how a black box model makes its predictions. This can be problematic because the model may be learning the wrong things while having a good skill score. A good example often mentioned in the literature is image classification, where classification models label the images correctly only because of a common watermark."
      ],
      "metadata": {
        "id": "-aQbmkN-RXK8"
      }
    },
    {
      "cell_type": "markdown",
      "source": [
        "Here are the possible benefits of using inherently interpretable ML model rather than black box models for your research task [Figure taken from Figure 4 in Du et al. (2019)]\n",
        "\n"
      ],
      "metadata": {
        "id": "znDEPSoeTbAa"
      }
    },
    {
      "cell_type": "markdown",
      "source": [
        "![interpretable_progress.jpg](./Figures/interpretable_progress.jpg)\n"
      ],
      "metadata": {
        "id": "4j5dRrGBT2hU"
      }
    },
    {
      "cell_type": "markdown",
      "source": [
        "If you are not using an intrinsically intepretable model, the normal workflow of explaining a ML model would be to train the model first, and use ad-hoc methods to explain the trained model.\n"
      ],
      "metadata": {
        "id": "IE3ZTh-nSaTR"
      }
    },
    {
      "cell_type": "markdown",
      "source": [
        "## 2. **Distinguishing Local vs. Global Explanation Methods:**\n",
        "- **Local Explanations:**\n",
        "  - Focus on explaining individual predictions or instances.\n",
        "  - Better accuracy for specific predictions but might not represent the overall model behavior.\n",
        "  - Examples: Counterfactual explanations, instance-based methods.\n",
        "\n",
        "- **Global Explanations:**\n",
        "  - Aimed at understanding the overall model behavior.\n",
        "  - Highlights feature importance and interactions across the entire dataset.\n",
        "  - Examples: Feature importance rankings, aggregated insights.\n",
        "\n",
        "| Scope of Intepretability   |  Discussion |\n",
        "|----------|:-------------:|\n",
        "| Algorithm Transparency |  Understanding the algorithm and how it works |\n",
        "| Global, Holistic Model interpretability | Understanding on a general level how the model works |\n",
        "| Global Model Interpretability | Understanding parts of the model and how it affects the results |\n",
        "| Local Interpretability | Understanding and explaining the output from the input variables and how it behaved to reach that point |\n",
        "\n",
        "\n",
        "\n",
        "## 3. **Model-Agnostic vs. Model-Specific Methods:**\n",
        "- **Model-Agnostic Methods:**\n",
        "  - Applicable to various machine learning models.\n",
        "  - Post hoc techniques that analyze models after training.\n",
        "  - Examples: Permutation feature importance, SHAP (SHapley Additive exPlanations).\n",
        "\n",
        "- **Model-Specific Methods:**\n",
        "  - Tailored to particular model architectures or types.\n",
        "  - Interpretation based on specific model internals or structures.\n",
        "  - Examples: Interpreting weights in linear models, decision tree visualization.\n"
      ],
      "metadata": {
        "id": "KD7vxRLYB-F1"
      }
    },
    {
      "cell_type": "markdown",
      "source": [
        "These AI explanation methods can be evaluated with the following criteria:\n",
        "\n",
        "\n",
        "| Criteria   |  Discussion |\n",
        "|----------|:-------------:|\n",
        "| Expressive power |  The structure/language that the explanation method can give |\n",
        "| Translucency | How much it requires to look into the machine learning model |\n",
        "| Algorithmic Complexity | Computational complexity of the method |\n",
        "| Portability | How many machine learning models the method can be used for |\n",
        "\n",
        "\n",
        "Properties of the explanations themselves: accurate, consistent, faithful, stable, understandable, confidence, degree of representation, and importance of features, and how outliers or “novel” instances are evaluated.\n"
      ],
      "metadata": {
        "id": "COa1RiFvY0o9"
      }
    },
    {
      "cell_type": "markdown",
      "source": [
        "## 4. **Implementing Permutation Feature Importance and Partial Dependence Plots:**\n",
        "- **Partial Dependence Plots:**\n",
        "  - Visualizing the marginal effect of a feature on the predicted outcome.\n",
        "  - To create these plots, we would first decide an input feature that we are interested in.\n",
        "  - Summarizes the model predictions for different parts of the distribution of the interested input feature.\n",
        "  - Put the statistical summary of predictions for different input feature values to a plot.\n",
        "  - Illustrates how changes in a feature impact model predictions.\n",
        "  - It is useful for regression tasks and classification tasks where the ML model outputs probabilities.\n",
        "  - Useful for understanding complex feature interactions.\n",
        "\n",
        "- **PDP-based Feature Importance:**\n",
        "  - The flatter a PDP is, the lesser the feature is important as opposed to having a PDP which varies a lot.\n",
        "  - Possible to combine the information in a PDP plot into a single numerical value.\n",
        "  - The numerical value shows how each PDP curve deviates from the average curve for all features.\n",
        "  - One disadvantage is that PDP-based feature importance ignores feature interactions. Only features that are directly impactful are important in this analysis.\n",
        "  - Gives only the main effect of the feature and ignores possible feature interactions. Moreover, PDP is only defined by the unique feature value.\n",
        "\n",
        "\n",
        "- **Advantages of PDPs:**\n",
        "  - Intuitive\n",
        "  - Clear interpretation\n",
        "  - A causal interpretation\n",
        "\n",
        "- **Disadvantages of PDPs:**\n",
        "  - Assumption of Independence\n",
        "  - Correlated feature complicates the interpretation\n",
        "  - Only shows 2D plots (many figures for a model with a lot of input features)\n",
        "  - As PDP illustrates the average marginal effect, it is possible that the heterogeneous effects might stay hidden. To know these effects, the individual conditional expectation curves can be plotted instead of aggregated line.\n",
        "\n",
        ">Here is an example of using PDPs to understand how a machine learning model predicting the water level at a reservoir works [Figure 3 in Obringer and Nateghi (2018)]\n",
        "\n",
        "![streamflow_pdp1.jpg](./Figures/streamflow_pdp1.jpg)\n",
        "\n",
        "\n"
      ],
      "metadata": {
        "id": "SseO4iYCKIY7"
      }
    },
    {
      "cell_type": "markdown",
      "source": [
        "\n",
        "- **Permutation Feature Importance:**\n",
        "  - Shuffling feature values to evaluate their impact on model performance.\n",
        "  - Identifying influential features by measuring performance degradation.\n",
        "  - Practical application in assessing feature relevance.\n",
        "  - Makes more sense to use the test data to calculate the importance, because a feature that is important in an overfitting model can just be unhelpful noise.\n",
        "\n",
        "- **Advantages of Permutation Feature Importances:**\n",
        "  - Compressed, global insight into how the model works\n",
        "  - Clear interpretation\n",
        "  - Accounts for all possible interactions between features\n",
        "  - There are explanation methods that requires you to remove features and retrain models. This method does not require you to do that.\n",
        "\n",
        "\n",
        "- **Disadvantages of Permutation Feature Importances:**\n",
        "  - Linked to the error of the model. Sometimes how predictions change with feature (linear vs. nonlinear) is what we want.\n",
        "  - Does not work when you do not have labels (true outcomes).\n",
        "  - Based on random shuffling. Results can be unstable.\n",
        "  - Importance values can be misleading when there are multicollinearity (features correlate with one another).\n",
        "\n",
        "- **Alternatives:**\n",
        "  - PIMP algorithm to produce p-values for the importance\n",
        "  - Variance-based measures such as Sobol’s indices, functional ANOVA\n",
        "  - SHAP importance\n",
        "  - Model-specific methods such as Gini importance for random forests or standardised regression coefficients for regression models\n",
        "\n"
      ],
      "metadata": {
        "id": "r4t1EGmuYamc"
      }
    },
    {
      "cell_type": "markdown",
      "source": [
        "> **Tying Permutation Feature Importances to Model Optimization:** Permutation feature importances can be a useful tool to reduce the complexity of your model if your model has a clear overfitting problem. By setting a cutoff threshold on the feature importance to filter out unimportant input features, we can get a model that probably generalizes better to unseen data.\n",
        "\n",
        "> In the following proposed data-driven data to predict diabetes, Nirmalraj et al. (2023) applies a feature filtering mechanism based on global explanation methods to improve the data-driven model.\n",
        "\n",
        "![Permutation_diabetes.jpg](./Figures/Permutation_diabetes.jpg)\n"
      ],
      "metadata": {
        "id": "88Iu7xWudZQa"
      }
    },
    {
      "cell_type": "markdown",
      "source": [
        "## 5. **Explanation Methods for Neural Networks:**\n",
        "For Neural Networks, it is still useful to use model-agnostic methods discussed earlier, it may be even more useful to use interpretation methods designed specifically for NNs.\n",
        "\n",
        "Compared to model-agnostic methods, these methods are useful because:\n",
        "- These methods uncover learned featres and concepts in the hidden layers\n",
        "- Most model-agnostic methods are originally designed for tabular data\n",
        "- Can be more efficient\n",
        "\n",
        "The simplest explanation method for neural networks is **Vanilla Gradient (Saliency Maps)**.\n",
        "- Gradient between machine learning predictions (class score of interest in the case of classification) with respect to the input pixels.\n",
        "- A plot that summarizes the relevance of each pixel in an image to the machine learning model prediction.\n",
        "\n",
        "For example, in the case of image classification, pixel attribution methods will highlight and identify the most relevant pixels used by the NN from the input image to arrive at their output. These can help understand how the NN model works. It is a specialised feature attribution method for images.\n",
        "\n",
        "**Environmental Sciences Application:**\n",
        "Saliency maps can be very useful for environmental sciences tasks. Here we show an application of this technique to weather tasks.\n",
        "\n",
        "> Molina et al. (2021) trained a neural network to classify severe thunderstorms from non-severe ones. Saliency maps are used to understand how variables distribute for correctly-classified samples and samples where models are making mistakes.\n",
        "\n",
        "![saliency_map_atmsci.jpg](./Figures/saliency_map_atmsci.jpg)\n"
      ],
      "metadata": {
        "id": "GGyf7oaTEWH5"
      }
    },
    {
      "cell_type": "markdown",
      "source": [
        "Other methods include:\n",
        "- **DeconvNet:**\n",
        "  - Reverse a neural network (from prediction to inputs)\n",
        "- **Grad-CAM:**\n",
        "  - Backpropagates the gradient to the last convolutional layer.\n",
        "  - It finds smooth representations of abstract features learned by the CNN model.\n",
        "  - This method gives us *heat maps*\n",
        "- **Guided Grad-CAM**\n",
        "- **SmoothGrad:**\n",
        "  - Add noise and averaging over the artifically noisy gradient.\n",
        "  - This method gives smoother explanations than other gradient-based methods (e.g., Vanilla Gradient)\n",
        "\n",
        "These are **pixle attribution methods** that assigns relevance / importance to every points in the image.\n",
        "\n",
        "Disadvantages of using these methods:\n",
        "- **No ground truth:**\n",
        "  - Different attribution methods often gives very different, even contradictory results.\n",
        "  - Since these explanations are not directly observed, it is difficult to say which method gives the most trustworthy explanation.\n",
        "- **Fragile to noise:**\n",
        "  - Adding adversarial perturbations to an image can lead to very different explanations."
      ],
      "metadata": {
        "id": "lqRZOQGCftTE"
      }
    },
    {
      "cell_type": "markdown",
      "source": [
        "Reference:\n",
        "\n",
        "(1) Wang, T., & Lin, Q. (2021). Hybrid predictive models: When an interpretable model collaborates with a black-box model. The Journal of Machine Learning Research, 22(1), 6085-6122.\n",
        "\n",
        "(2) Du, M., Liu, N., & Hu, X. (2019). Techniques for interpretable machine learning. Communications of the ACM, 63(1), 68-77.\n",
        "\n",
        "(3) Obringer, R., & Nateghi, R. (2018). Predicting urban reservoir levels using statistical learning techniques. Scientific reports, 8(1), 5164.\n",
        "\n",
        "(4) Nirmalraj, S., Antony, A. S. M., Srideviponmalar, P., Oliver, A. S., Velmurugan, K. J., Elanangai, V., & Nagarajan, G. (2023). Permutation feature importance-based fusion techniques for diabetes prediction. Soft Computing, 1-12.\n",
        "\n",
        "(5) Molina, M. J., Gagne, D. J., & Prein, A. F. (2021). A benchmark to test generalization capabilities of deep learning methods to classify severe convective storms in a changing climate. Earth and Space Science, 8(9), e2020EA001490.\n"
      ],
      "metadata": {
        "id": "0OjJpbw_Ru8k"
      }
    },
    {
      "cell_type": "code",
      "source": [
        "# - **Layer-wise Relevance Propagation (LRP):**\n",
        "#  - Assigning relevance scores to individual neurons or layers.\n",
        "#  - Tracing contributions of input features to model predictions.\n",
        "#  - Enhancing interpretability in neural network decision-making.\n",
        "\n",
        "#- **Activation Maximization:**\n",
        "#  - Generating inputs that maximally activate specific neurons.\n",
        "#  - Understanding what patterns or features trigger certain neural responses.\n",
        "#  - Useful for visualizing what the model \"looks for\" in data."
      ],
      "metadata": {
        "id": "F_dRqGuyJsih"
      },
      "execution_count": null,
      "outputs": []
    }
  ]
}