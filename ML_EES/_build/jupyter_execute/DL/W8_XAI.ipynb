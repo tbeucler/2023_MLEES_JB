{
 "cells": [
  {
   "cell_type": "markdown",
   "metadata": {
    "id": "WASgqdPlQX7N"
   },
   "source": [
    "# Explainable Artifical Intelligence (XAI):\n",
    "\n",
    "In this chapter, the learning objectives are:\n",
    "\n",
    "1.    Understand the importance of XAI\n",
    "\n",
    "2.    Distinguish local explanations methods from global ones\n",
    "\n",
    "3.    Distinguish model-agnostic explanation methods from model-specific ones\n",
    "\n",
    "4.    Know how to implement permutation feature importance and partial depedence plots\n",
    "\n",
    "5.    Have a basic understanding on explanation methods for neural networks"
   ]
  },
  {
   "cell_type": "markdown",
   "metadata": {
    "id": "pZn59BvnRJDB"
   },
   "source": [
    "The Exercises will help you to learn:\n",
    "\n",
    "1.    How to generate PDPs and calculate permutation feature importance for ML models trained on tabular data.\n",
    "\n",
    "2.    Have a basic understanding on a [`SHAP`], a popular package containing many useful ML explanation tools.\n",
    "\n",
    "3.    Understand how the values shown in SHAP figures are linked to PDPs.\n",
    "\n",
    "4.    Learn how to use the beautiful figures available in [`SHAP`].\n",
    "\n",
    "5.    Apply [`SHAP`] explainers on an image dataset."
   ]
  },
  {
   "cell_type": "markdown",
   "metadata": {
    "id": "gEJ0QiYZSJY9"
   },
   "source": [
    "**This week's exercises:**\n",
    "1.    This exercise adapts the tutorial codes in the scikit-learn library and SHAP library, and apply these methods to some datasets we have already seen in previous exercises.\n"
   ]
  },
  {
   "cell_type": "markdown",
   "metadata": {
    "id": "wKIYp-I_SDcp"
   },
   "source": [
    "If you are struggling with some of the exercises, do not hesitate to:\n",
    "\n",
    "\n",
    "*   Use a direct Internet search, or [stackoverflow](https://stackoverflow.com/)\n",
    "*   Ask your neighbor(s), the teacher, or the TA for help\n",
    "*   Debug your program, e.g. by following [this tutorial](https://swcarpentry.github.io/python-novice-inflammation/11-debugging/index.html)\n",
    "*   Use assertions, e.g. by following [this tutorial](https://swcarpentry.github.io/python-novice-inflammation/10-defensive/index.html)\n"
   ]
  },
  {
   "cell_type": "markdown",
   "metadata": {
    "id": "3JJr_YTFSG8k"
   },
   "source": [
    "**Way to go with the flow 😎🌧🌧🏄🌧🌧**\n",
    "\n",
    "If you're done early, consider:\n",
    "\n",
    "*   Giving feedback on how to improve this notebook (typos, hints, exercises that may be improved/removed/added, etc.) by messaging the teacher and TA(s) on Moodle\n",
    "*   Working on your final project for this course.\n",
    "\n",
    "**Final Project**\n",
    "The final project’s goal is to answer a well-defined scientific question by applying one of the ML algorithms introduced in class on an environmental dataset of your choice (e.g., related to your Masters thesis or your PhD research).\n",
    "\n",
    "*   Now that you found a large environmental dataset linked to a scientific question you are passionate about, which machine learning algorithm can you use to address it? Is it a classification, a regression, or a data exploration project?\n",
    "*   How could you format the dataset to facilitate its manipulation in Python?\n",
    "*   If you're still hunting for a dataset of interest, consider browsing the [list of benchmark datasets](http://mldata.pangeo.io/index.html) maintained by [Pangeo](https://pangeo.io/) and [Kaggle](https://www.kaggle.com/datasets)."
   ]
  }
 ],
 "metadata": {
  "colab": {
   "provenance": []
  },
  "kernelspec": {
   "display_name": "Python 3",
   "name": "python3"
  },
  "language_info": {
   "codemirror_mode": {
    "name": "ipython",
    "version": 3
   },
   "file_extension": ".py",
   "mimetype": "text/x-python",
   "name": "python",
   "nbconvert_exporter": "python",
   "pygments_lexer": "ipython3",
   "version": "3.9.16"
  }
 },
 "nbformat": 4,
 "nbformat_minor": 0
}