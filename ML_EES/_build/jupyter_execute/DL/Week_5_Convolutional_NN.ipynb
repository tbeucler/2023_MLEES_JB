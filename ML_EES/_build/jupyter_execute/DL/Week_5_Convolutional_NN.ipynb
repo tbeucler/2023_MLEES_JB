{
 "cells": [
  {
   "cell_type": "markdown",
   "metadata": {
    "id": "IY2vdUC9L0_F"
   },
   "source": [
    "# Convolutional Neural Networks and Remote Sensing"
   ]
  },
  {
   "cell_type": "markdown",
   "metadata": {
    "id": "-Y_3xDf0ixzV"
   },
   "source": [
    "In this chapter, our learning objectives are to:\n",
    "\n",
    "1.  Define a convolutional neural network (CNN)\n",
    "2.  Discuss the main applications of convolutional neural networks  \n",
    "3.  Know the steps to design and train a convolutional neural network\n",
    "4.  Define transfer learning and understand how to re-use pre-trained models\n",
    "\n",
    "\n",
    "In exercises, we will define and train CNNs using TensorFlow to\n",
    "1. Classify flowers 💐💐💐\n",
    "2. Classify land use and land cover ☕☕☕\n",
    "\n"
   ]
  }
 ],
 "metadata": {
  "accelerator": "GPU",
  "colab": {
   "provenance": [],
   "toc_visible": true
  },
  "kernelspec": {
   "display_name": "Python 3",
   "name": "python3"
  },
  "language_info": {
   "codemirror_mode": {
    "name": "ipython",
    "version": 3
   },
   "file_extension": ".py",
   "mimetype": "text/x-python",
   "name": "python",
   "nbconvert_exporter": "python",
   "pygments_lexer": "ipython3",
   "version": "3.9.16"
  }
 },
 "nbformat": 4,
 "nbformat_minor": 0
}