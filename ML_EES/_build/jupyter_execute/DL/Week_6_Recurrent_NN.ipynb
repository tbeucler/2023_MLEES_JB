{
 "cells": [
  {
   "cell_type": "markdown",
   "metadata": {
    "colab_type": "text",
    "id": "view-in-github"
   },
   "source": [
    "<a href=\"https://colab.research.google.com/github/tbeucler/2023_MLEES_JB/blob/main/ML_EES/DL/Week_6_Recurrent_NN.ipynb\" target=\"_parent\"><img src=\"https://colab.research.google.com/assets/colab-badge.svg\" alt=\"Open In Colab\"/></a>"
   ]
  },
  {
   "cell_type": "markdown",
   "metadata": {
    "id": "jobt71avnVPS"
   },
   "source": [
    "# Recurrent Neural Networks and Hydrological Modeling"
   ]
  },
  {
   "cell_type": "markdown",
   "metadata": {
    "id": "5NmnSWj5oAAT"
   },
   "source": [
    "In this chapter, the learning objectives are:\n",
    "\n",
    "1.    Define a recurrent neural network\n",
    "\n",
    "2.    Distinguish recurrent from convolutional neural networks\n",
    "\n",
    "3.    Discuss the forecasting of environmental time series\n",
    "\n",
    "4.    Define natural language processing\n",
    "\n",
    "5.    Know at least three algorithms to process time-series (Vanilla RNN, LSTM,\n",
    "GRU\n",
    "Attention)\n",
    "\n",
    "\n",
    "The Exercises will help you to learn:\n",
    "\n",
    "1.    Implementing and training a recurrent neural network using [`Keras`].\n",
    "\n",
    "2.    Gain intuition on architecture design.\n",
    "\n",
    "3.    Cross-validate a recurrent neural network\n",
    "\n",
    "4.    Use a neural network to generate new data\n",
    "\n",
    "5.    Implementing an LSTM network for Hydrological Applications using [`PyTorch`]"
   ]
  },
  {
   "cell_type": "markdown",
   "metadata": {},
   "source": [
    "## Recurrent Neural Networks (RNN)"
   ]
  },
  {
   "cell_type": "markdown",
   "metadata": {},
   "source": [
    "RNNs are a class of artificial neural networks designed for sequential data, making them well-suited for various applications in environmental science.\n",
    "They are particularly useful for tasks that involve time series data, natural language processing, and sequential data analysis."
   ]
  },
  {
   "cell_type": "markdown",
   "metadata": {},
   "source": [
    "Key Concepts:\n",
    "\n",
    "> 1. Sequential Data Handling:\n",
    "RNNs are designed to work with sequential data where the order of data points matters.\n",
    "Examples in environmental science include time series data (e.g., weather observations, pollution levels, and ocean currents) and sequences of sensor data.\n",
    "\n",
    "> 2. Recurrent Neurons:\n",
    "RNNs have neurons with recurrent connections, meaning they can maintain a form of memory of previous time steps.\n",
    "This memory enables RNNs to process sequences and make predictions based on prior data.\n",
    "\n",
    "> 3. The Time Dimension:\n",
    "RNNs introduce the time dimension into neural networks, allowing them to process data across different time steps.\n",
    "This is crucial for tasks like forecasting environmental changes or modeling long-term climate patterns.\n",
    "\n",
    "> 4. Vanishing and Exploding Gradients:\n",
    "RNNs are prone to gradient-related issues due to backpropagation through time. This can cause vanishing gradients (gradients become too small) or exploding gradients (gradients become too large).\n",
    "Techniques like LSTM and GRU cells were developed to address these issues.\n"
   ]
  },
  {
   "cell_type": "markdown",
   "metadata": {},
   "source": [
    "Environmental Science Examples:\n",
    "\n",
    "> 1. Weather Forecasting:\n",
    "RNNs can analyze historical weather data (temperature, humidity, pressure) to make short-term and long-term weather predictions.\n",
    "For example, they can be used to predict daily or hourly temperature changes, supporting applications like agriculture and disaster management.\n",
    "\n",
    "> 2. Air Quality Prediction:\n",
    "RNNs can be employed to forecast air quality based on a sequence of meteorological data, historical pollution levels, and emission sources.\n",
    "These models help in predicting pollution trends and alerting the public about potential health risks.\n",
    "\n",
    "> 3. Ocean Current Modeling:\n",
    "RNNs can analyze historical ocean current data to understand and predict oceanic patterns and behavior.\n",
    "This knowledge is essential for applications like navigation, fisheries management, and marine conservation.\n",
    "\n",
    "> 4. Climate Change Modeling:\n",
    "RNNs can be used to model long-term climate data, including temperature, sea levels, and greenhouse gas concentrations.\n",
    "These models help in predicting future climate scenarios and assessing the impact of climate change on ecosystems.\n",
    "\n",
    "> 5. Natural Language Processing for Environmental Texts:\n",
    "In NLP, RNNs can analyze text data related to environmental science, such as research papers or environmental reports.\n",
    "They assist in tasks like sentiment analysis of public opinions on environmental issues or summarizing scientific research."
   ]
  },
  {
   "cell_type": "markdown",
   "metadata": {},
   "source": [
    "## Natural Language Processing (NLP) "
   ]
  },
  {
   "cell_type": "markdown",
   "metadata": {},
   "source": [
    "Natural Language Processing (NLP) is a subfield of artificial intelligence that focuses on the interaction between computers and human language. It involves the development of algorithms and models to understand, interpret, and generate human language.\n",
    "\n",
    "Applications in Environmental Sciences:\n",
    "\n",
    "> Text Mining for Climate Data: NLP can be used to extract information from climate reports, weather data, and scientific publications, allowing for automated data analysis and information retrieval.\n",
    "\n",
    "> Environmental Policy Analysis: Analyzing policy documents and legislative texts to identify trends, compliance issues, and areas of environmental concern.\n",
    "\n",
    "> Social Media and Public Discourse: Monitoring social media platforms and news articles for public sentiment regarding environmental issues, which can inform decision-making.\n"
   ]
  },
  {
   "cell_type": "markdown",
   "metadata": {},
   "source": [
    "Key Concepts in NLP:\n",
    "\n",
    "> 1. Tokenization:\n",
    "Tokenization is the process of breaking text into individual units or tokens, often words or phrases.\n",
    "Use in Environmental Sciences: Tokenization helps transform unstructured text data into a structured format for analysis. For instance, breaking a climate report into tokens allows for sentiment analysis.\n",
    "\n",
    "> 2. Stop Words:\n",
    "Stop words are common words (e.g., \"the,\" \"and,\" \"in\") that are often removed during text processing as they carry little meaning.\n",
    "Use in Environmental Sciences: Removing stop words can improve the efficiency of text analysis by focusing on content-bearing words.\n",
    "\n",
    "> 3. Text Vectorization:\n",
    "Text vectorization is the process of converting text data into numerical representations (vectors).\n",
    "Use in Environmental Sciences: Converting environmental texts into numerical vectors enables the application of machine learning algorithms for tasks like classification and clustering.\n",
    "\n",
    "> 4. Sentiment Analysis:\n",
    "Sentiment analysis is the process of determining the emotional tone or sentiment expressed in a piece of text.\n",
    "Use in Environmental Sciences: Assessing public sentiment toward environmental policies or climate change through the analysis of news articles and social media posts.\n",
    "\n",
    "> 5. Named Entity Recognition (NER):\n",
    "NER is a technique used to identify and classify named entities (e.g., locations, organizations, persons) in text.\n",
    "Use in Environmental Sciences: Identifying and categorizing entities mentioned in environmental reports and documents, such as the names of affected regions.\n",
    "    "
   ]
  },
  {
   "cell_type": "markdown",
   "metadata": {},
   "source": [
    "## Algorithms to process time series"
   ]
  },
  {
   "cell_type": "markdown",
   "metadata": {},
   "source": [
    "> **Vanilla RNN (Recurrent Neural Network):**\n",
    "Vanilla RNN is the simplest form of recurrent neural networks. It processes sequential data by maintaining a hidden state that is updated at each time step. \n",
    "Example: Predicting ocean temperature based on historical temperature data, considering seasonal variations and climate changes."
   ]
  },
  {
   "cell_type": "markdown",
   "metadata": {},
   "source": [
    "> **LSTM (Long Short-Term Memory):**\n",
    "LSTM is an advanced recurrent neural network architecture that effectively handles long-range dependencies in sequences. It incorporates memory cells, input, forget, and output gates.\n",
    "Example: Modeling and predicting air quality levels in urban areas, considering complex dependencies on factors like traffic, weather, and emissions."
   ]
  },
  {
   "cell_type": "markdown",
   "metadata": {},
   "source": [
    "> **GRU (Gated Recurrent Unit):**\n",
    "GRU is another type of recurrent neural network, similar to LSTM but with a simplified structure. It uses gating mechanisms to manage information flow through the network.\n",
    "Example: Predicting river flow rates, considering factors like rainfall, snowmelt, and temperature changes, where GRU helps capture complex dependencies."
   ]
  },
  {
   "cell_type": "markdown",
   "metadata": {},
   "source": [
    "> **Attention Mechanism:**\n",
    "The attention mechanism is a component often used in conjunction with RNNs and other architectures. It allows the network to focus on different parts of the input sequence when making predictions.\n",
    "Example: Analyzing climate data from different regions and giving more attention to regions with higher impact on global climate models."
   ]
  },
  {
   "cell_type": "markdown",
   "metadata": {},
   "source": [
    "## This week's exercises:"
   ]
  },
  {
   "cell_type": "markdown",
   "metadata": {
    "id": "ZwIvLOstucNV"
   },
   "source": [
    "1.    This exercise adapts Géron et al.'s Jupyter notebook exercises for [chapter 15](\"https://github.com/ageron/handson-ml2/blob/master/15_processing_sequences_using_rnns_and_cnns.ipynb\") \\([License](https://github.com/ageron/handson-ml2/blob/master/LICENSE)) of his book [\"Hands-On Machine Learning with Scikit-Learn, Keras, and TensorFlow, 2nd Edition\"](https://www.oreilly.com/library/view/hands-on-machine-learning/9781492032632/).\n",
    "\n",
    "\n",
    "2.    Adapts a watershed modeling exercise developed by Yikui Zhang (ETH Zurich) for Profs. Nadav Peleg & Peter Molnar, which focuses on modeling the Gsteig catchment."
   ]
  },
  {
   "cell_type": "markdown",
   "metadata": {
    "id": "5kqRUzTLpca0"
   },
   "source": [
    "If you are struggling with some of the exercises, do not hesitate to:\n",
    "\n",
    "\n",
    "*   Use a direct Internet search, or [stackoverflow](https://stackoverflow.com/)\n",
    "*   Ask your neighbor(s), the teacher, or the TA for help\n",
    "*   Debug your program, e.g. by following [this tutorial](https://swcarpentry.github.io/python-novice-inflammation/11-debugging/index.html)\n",
    "*   Use assertions, e.g. by following [this tutorial](https://swcarpentry.github.io/python-novice-inflammation/10-defensive/index.html)\n",
    "\n"
   ]
  },
  {
   "cell_type": "markdown",
   "metadata": {
    "id": "Pp_t7AeSARlQ"
   },
   "source": [
    "**Way to go with the flow 😎🌧🌧🏄🌧🌧**\n",
    "\n",
    "If you're done early, consider:\n",
    "\n",
    "*   Giving feedback on how to improve this notebook (typos, hints, exercises that may be improved/removed/added, etc.) by messaging the teacher and TA(s) on Moodle\n",
    "*   Working on your final project for this course.\n",
    "\n",
    "**Final Project**\n",
    "The final project’s goal is to answer a well-defined scientific question by applying one of the ML algorithms introduced in class on an environmental dataset of your choice (e.g., related to your Masters thesis or your PhD research).\n",
    "\n",
    "*   Now that you found a large environmental dataset linked to a scientific question you are passionate about, which machine learning algorithm can you use to address it? Is it a classification, a regression, or a data exploration project?\n",
    "*   How could you format the dataset to facilitate its manipulation in Python?\n",
    "*   If you're still hunting for a dataset of interest, consider browsing the [list of benchmark datasets](http://mldata.pangeo.io/index.html) maintained by [Pangeo](https://pangeo.io/) and [Kaggle](https://www.kaggle.com/datasets)."
   ]
  }
 ],
 "metadata": {
  "colab": {
   "include_colab_link": true,
   "provenance": []
  },
  "kernelspec": {
   "display_name": "Python 3 (ipykernel)",
   "language": "python",
   "name": "python3"
  },
  "language_info": {
   "codemirror_mode": {
    "name": "ipython",
    "version": 3
   },
   "file_extension": ".py",
   "mimetype": "text/x-python",
   "name": "python",
   "nbconvert_exporter": "python",
   "pygments_lexer": "ipython3",
   "version": "3.9.16"
  }
 },
 "nbformat": 4,
 "nbformat_minor": 1
}