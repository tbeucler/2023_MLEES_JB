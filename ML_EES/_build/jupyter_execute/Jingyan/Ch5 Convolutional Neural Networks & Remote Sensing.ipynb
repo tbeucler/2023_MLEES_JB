{
 "cells": [
  {
   "cell_type": "markdown",
   "id": "a5b83101",
   "metadata": {
    "colab_type": "text",
    "id": "view-in-github"
   },
   "source": [
    "<a href=\"https://colab.research.google.com/github/tbeucler/2023_MLEES_JB/blob/main/ML_EES/Jingyan/Ch5%20Convolutional%20Neural%20Networks%20%26%20Remote%20Sensing.ipynb\" target=\"_parent\"><img src=\"https://colab.research.google.com/assets/colab-badge.svg\" alt=\"Open In Colab\"/></a>"
   ]
  },
  {
   "cell_type": "markdown",
   "id": "4ecacce4",
   "metadata": {
    "id": "4ecacce4"
   },
   "source": [
    "# Convolutional Neural Networks and Remote Sensing"
   ]
  },
  {
   "cell_type": "markdown",
   "id": "B0YLG480EFMO",
   "metadata": {
    "id": "B0YLG480EFMO"
   },
   "source": [
    "## Learning Objectives:\n",
    "1.   Define a convolutional neural network\n",
    "2.   Discuss the main applications of convolutional neural networks\n",
    "3.   Know the steps to design and train a convolutional neural network\n",
    "4.   Define transfer learning and understand how to re-use pre-trained models\n",
    "\n"
   ]
  },
  {
   "cell_type": "markdown",
   "id": "vrOIlyeWNfv0",
   "metadata": {
    "id": "vrOIlyeWNfv0"
   },
   "source": [
    "## What are Convolutional Neural Networks (CNNs)?\n",
    "\n",
    "CNNs are a type of artificial neural network inspired by the structure and function of the human visual system. They excel at tasks related to pattern recognition and image analysis. CNNs are particularly well-suited for handling grid-like data, making them ideal for processing images and spatial data. CNNs are more efficient in handling larger images due to their use of partially connected layers and weight sharing, which reduces the number of parameters and computational complexity. In contrast, deep neural networks with fully connected layers may become impractical and risk network instability when dealing with large images.\n",
    "\n",
    "\n",
    "## Key components of CNNs:\n",
    "1. Convolutional Layers: These layers apply convolutional operations to the input data using learnable filters (kernels). These filters scan the input image, capturing features like edges, corners, textures, and more. Convolutional layers are responsible for feature extraction.\n",
    "    * Filters in a CNN are specialized tools for detecting image features like edges and textures. Multiple filters in different layers enable the network to learn complex features, such as those detecting vertical and horizontal features,  enabling tasks like image recognition.\n",
    "    * Padding involves adding zeros to the input data to control output size. \"Valid\" padding (no padding) reduces output size, while \"Same\" padding maintains it.\n",
    "    * Stride determines how much the convolutional filter moves across the input: a stride of 1 moves one pixel at a time, preserving spatial dimensions, while a larger stride reduces feature map size.\n",
    "2. Activation Functions: After each convolution operation, an activation function (commonly ReLU - Rectified Linear Unit) is applied to introduce non-linearity into the model, allowing it to learn complex relationships in the data.\n",
    "3. Pooling Layers: Pooling layers downsample the spatial dimensions of the data. Max-pooling and average-pooling are commonly used techniques to reduce the size of feature maps while retaining essential information.\n",
    "4. Fully Connected Layers (Dense Layers): These layers are usually placed at the end of the CNN architecture. They take the flattened output from the previous layers and perform classification or regression tasks. Fully connected layers capture high-level patterns and relationships.\n",
    "5. Softmax Layer: In classification tasks, a softmax layer is often used to convert the network's output into class probabilities. It assigns a probability score to each class, indicating the likelihood of the input belonging to that class.\n",
    "\n",
    "![Scheme of a CNN](https://ars.els-cdn.com/content/image/1-s2.0-S0924271620303488-gr1_lrg.jpg)\n",
    "\n",
    "Fig.1 Scheme of a CNN (Kattenborn et al. 2021)\n",
    "\n",
    "\n",
    "\n",
    "---\n",
    "\n",
    "\n",
    "\n",
    "---\n",
    "\n",
    "\n"
   ]
  },
  {
   "cell_type": "markdown",
   "id": "a0bae699",
   "metadata": {
    "id": "a0bae699"
   },
   "source": [
    "\n",
    "\n",
    "\n",
    "\n",
    "\n",
    "## CNN Architecture  \n",
    "CNN architectures can vary in complexity and depth, depending on the task and dataset. Some well-known CNN architectures include:\n",
    "1. LeNet-5: One of the earliest CNN architectures, designed for handwritten digit recognition.\n",
    "2. AlexNet: Introduced in 2012, it played a significant role in popularizing deep learning. It won the ImageNet Large Scale Visual Recognition Challenge (ILSVRC) with a significantly reduced error rate.\n",
    "3. VGGNet: Known for its simplicity and uniform architecture, VGGNet uses small 3x3 convolutional filters repeatedly to learn features.\n",
    "![VGG](https://ars.els-cdn.com/content/image/1-s2.0-S0924271620303488-gr4_lrg.jpg)\n",
    "\n",
    "Fig.2 Scheme of the VGG-16 architecture (Kattenborn et al. 2021)\n",
    "\n",
    "4. GoogLeNet (Inception): Introduced the concept of inception modules, which are multiple parallel convolutional layers of different sizes.\n",
    "5. ResNet (Residual Network): Addressed the vanishing gradient problem by introducing skip connections or residual blocks. It enabled training very deep networks.\n",
    "\n",
    "\n",
    "## CNN applications  \n",
    "1. Image Classification: CNNs are widely used for image classification tasks, where they can accurately categorize objects, animals, or scenes within images.\n",
    "2. Object Detection: CNNs can locate and classify objects within images, making them valuable for tasks like autonomous driving, surveillance, and more.\n",
    "3. Semantic Segmentation: In this task, CNNs assign a class label to each pixel in an image, enabling the identification of object boundaries within scenes.\n",
    "4. Face Recognition: CNNs are used for face detection and recognition in security systems and social media applications.\n",
    "5. Remote Sensing: In remote sensing, CNNs are used for tasks like land cover classification, change detection, and object recognition in satellite imagery.\n",
    "\n",
    "![CNN tasks](https://ars.els-cdn.com/content/image/1-s2.0-S0924271620303488-gr9_lrg.jpg)\n",
    "\n",
    "Fig.3 Different CNN tasks (Kattenborn et al. 2021)\n",
    "\n",
    "> **Tips and tricks**\n",
    "\n",
    ">> **Data Augmentation** is a technique that artificially increases the training dataset's size by creating realistic variations of each training instance. It serves as a regularization technique to reduce overfitting. To be effective, the generated instances should be as realistic as possible, involving modifications such as slight shifts, rotations, and resizing of images in the training set. This approach enhances the model's tolerance to variations in object position, orientation, and size, effectively expanding the training dataset.\n",
    "\n",
    ">> CNNs face **memory challenges** during training due to storing forward pass values for backpropagation. Solutions involve reducing mini-batch size, which affects convergence speed, and lowering dimensionality via larger strides or layer removal. Adopting 16-bit floats reduces memory but risks precision issues. Distributed computing aids larger models but needs specialized hardware. Pooling layers, beneficial for downsampling, may compromise spatial details. Solutions depend on task needs, resources, and balancing memory efficiency with model performance.\n",
    "\n",
    "\n",
    "---\n",
    "\n",
    "\n",
    "\n",
    "---\n",
    "\n"
   ]
  },
  {
   "cell_type": "markdown",
   "id": "7tLAtcHvP6jN",
   "metadata": {
    "id": "7tLAtcHvP6jN"
   },
   "source": [
    "## CNN and remote sensing  \n",
    "CNNs have significantly impacted remote sensing by automating the analysis of satellite and aerial imagery:\n",
    "1. Land Cover Classification: CNNs classify land cover types (e.g., forests, urban areas, water bodies) in satellite images with high accuracy. They automatically learn relevant features and spatial relationships, improving classification results.\n",
    "2. Object Detection: CNNs locate and classify objects of interest (e.g., buildings, vehicles) within remote sensing images. They enable precise object identification for applications like urban planning and disaster response.\n",
    "3. Change Detection: CNNs identify changes between images captured at different times. This is vital for monitoring deforestation, urban expansion, and environmental shifts over time.\n",
    "4. Semantic Segmentation: CNNs assign labels to each pixel in an image, allowing for detailed mapping of land cover, vegetation, and infrastructure. This information is valuable for environmental assessments.\n",
    "5. Transfer Learning: Pre-trained CNN models, fine-tuned for remote sensing tasks, reduce the need for extensive labeled data, making CNNs accessible for smaller-scale projects.\n",
    "\n",
    "\n",
    ">> Reading: **Review on Convolutional Neural Networks (CNN) in vegetation remote sensing - Kattenborn et al. 2021**        \n",
    "CNNs are employed in vegetation remote sensing, extracting information from spatial data without the need for extensive feature engineering. Unlike traditional ML algorithms, which require demanding and limiting feature engineering, CNNs learn to perceive by optimizing transformations iteratively, rendering feature engineering obsolete. This approach signifies a shift from dictating what a model should learn to how it should learn.\n",
    "\n",
    "![CNN vegetation remote sensing](https://ars.els-cdn.com/content/image/1-s2.0-S0924271620303488-gr3_lrg.jpg)\n",
    "\n",
    "Fig.4 CNN applications in vegetation remote sensing (Kattenborn et al. 2021)\n",
    "\n",
    ">> Exercise notebook: **Land Cover Classification using Convolutional Neural Networks (CNNs)**\n",
    "*  Construct CNNs that classifies EuroSAT images into one of its 10 classes"
   ]
  }
 ],
 "metadata": {
  "colab": {
   "include_colab_link": true,
   "provenance": []
  },
  "kernelspec": {
   "display_name": "Python 3 (ipykernel)",
   "language": "python",
   "name": "python3"
  },
  "language_info": {
   "codemirror_mode": {
    "name": "ipython",
    "version": 3
   },
   "file_extension": ".py",
   "mimetype": "text/x-python",
   "name": "python",
   "nbconvert_exporter": "python",
   "pygments_lexer": "ipython3",
   "version": "3.9.16"
  }
 },
 "nbformat": 4,
 "nbformat_minor": 5
}