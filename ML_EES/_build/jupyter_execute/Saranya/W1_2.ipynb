{
 "cells": [
  {
   "cell_type": "markdown",
   "id": "16e2bdf8",
   "metadata": {
    "colab_type": "text",
    "id": "view-in-github"
   },
   "source": [
    "<a href=\"https://colab.research.google.com/github/tbeucler/2023_MLEES_JB/blob/main/ML_EES/Saranya/W1_2.ipynb\" target=\"_parent\"><img src=\"https://colab.research.google.com/assets/colab-badge.svg\" alt=\"Open In Colab\"/></a>"
   ]
  },
  {
   "cell_type": "markdown",
   "id": "d2fe2dc8",
   "metadata": {
    "id": "d2fe2dc8"
   },
   "source": [
    "# Classification and Regression"
   ]
  },
  {
   "cell_type": "markdown",
   "id": "3a55ed3c",
   "metadata": {
    "id": "3a55ed3c"
   },
   "source": [
    "This summary will give you a brief introduction to classification and regression tasks in Machine Learning\n",
    "\n",
    "**Learning Objectives**:\n",
    "\n",
    "1. Distinguish classification from regression\n",
    "2. Define a loss/cost function\n",
    "3. Understand how to train a logistic/softmax regression for binary/multiclass classification\n",
    "4. Know how to benchmark a classifier"
   ]
  },
  {
   "cell_type": "markdown",
   "id": "7aaef07b",
   "metadata": {
    "id": "7aaef07b"
   },
   "source": [
    "## Classification v.s. Regression\n",
    "\n",
    "### Classification\n",
    "Classification is a supervised learning task where the model learns to **classify instances into predefined classes or categories**.     \n",
    "\n",
    "**Binary Classification**: Classifying instances into two classes (e.g., spam vs. non-spam emails).\n",
    "\n",
    "> **Logistic regression** is used for binary classification tasks, predicting probabilities for each class.\n",
    "\n",
    ">> Log Loss (Cross-Entropy): The cost function used to evaluate the performance of logistic regression models.\n",
    "\n",
    ">> Training Logistic Regression: Iteratively optimize the model's parameters using gradient descent.\n",
    "\n",
    "**Multiclass Classification**: Classifying instances into multiple classes (e.g., digit recognition, where each digit is a class).\n",
    "\n",
    "Multiclass classification, also known as multinomial classification, refers to a classification problem where instances are categorized into three or more distinct classes.\n",
    ">>Example: Classifying images of animals into categories like \"dog,\" \"cat,\" \"elephant,\" and \"lion.\"\n",
    "\n",
    ">> *Softmax Regression* (Multinomial Logistic Regression): Softmax regression is used for multiclass classification tasks, predicting probabilities for multiple classes. The Softmax function ensures the predicted probabilities sum up to 1.\n",
    "Cross-Entropy Loss: The cost function used to evaluate softmax regression models.\n",
    "\n",
    "***Multilabel Classification***:\n",
    "Multilabel classification deals with instances that can belong to multiple classes simultaneously. In other words, an instance can have multiple labels associated with it.\n",
    ">> Example: Tagging a news article with multiple categories like \"politics,\" \"economy,\" and \"technology\" to capture its diverse content.\n",
    "\n",
    "***Multioutput Classification***(or Multioutput Regression):\n",
    "\n",
    "Multioutput classification (or regression) involves predicting multiple output variables simultaneously for each instance. Each output variable can have multiple possible values or classes.\n",
    ">>Example: Predicting both the color and size of a piece of fruit, where color could be \"red,\" \"green,\" or \"yellow,\" and size could be \"small,\" \"medium,\" or \"large.\"\n",
    "\n",
    "Here are some *practical applications* of classification in Environmental Sciences🌄\n",
    "> 1. Wildlife Identification: Classification techniques can be used to identify animal species from images or audio recordings, supporting wildlife monitoring projects.\n",
    "> 2. Land Cover Classification: Satellite imagery can be classified into various land cover types, aiding in monitoring land use changes over time.\n",
    "> 3. Invasive Species Detection: Developing models that classify invasive species in images, helping conservationists identify and manage ecological threats.\n",
    "> 4. Water Quality Assessment: Using classification algorithms to determine the quality of water bodies based on factors like chemical concentrations and biological indicators.\n",
    "\n",
    "\n",
    "### Regression\n",
    "**Linear regression** is a supervised machine learning algorithm used for **predicting a continuous numerical output** based on one or more input features. It assumes a linear relationship between the inputs and the target variable. The goal of linear regression is to find the best-fitting line (or hyperplane in higher dimensions) that *minimizes the difference between the predicted values and the actual target values*. The most common cost function used in linear regression is the *Mean Squared Error* (MSE).\n",
    "\n",
    "**Multiple linear regression** is an extension of linear regression that deals with multiple input features. Instead of just one input, there are multiple independent variables influencing the target variable. The algorithm estimates the coefficients for each feature, determining their individual impact on the target variable while considering their interrelationships.\n",
    "\n",
    "> Other Regression Methods:\n",
    "\n",
    ">> **Polynomial Regression**: This type of regression extends linear regression to capture nonlinear relationships by introducing polynomial terms of the input features. It fits a curve to the data instead of a straight line.\n",
    "\n",
    ">> **Ridge Regression** (L2 Regularization): Ridge regression adds a regularization term to the linear regression cost function. It helps prevent overfitting by penalizing large coefficient values, thus promoting simpler models.\n",
    "\n",
    ">>  **Lasso Regression** (L1 Regularization): Similar to ridge regression, lasso regression also adds a regularization term. However, it uses the absolute values of coefficients, often resulting in some coefficients being exactly zero. This leads to feature selection.\n",
    "\n",
    ">>  **Elastic Net Regression**: Elastic Net combines L1 and L2 regularization to balance the strengths of both. It can handle situations where there are correlated features.\n",
    "\n",
    ">>  **Support Vector Regression** (SVR): SVR applies the principles of support vector machines to regression problems. It aims to fit a hyperplane that captures as many instances within a specified margin as possible.\n",
    "\n",
    ">>  **Decision Tree Regression**: Similar to classification decision trees, decision tree regression predicts a continuous target value by partitioning the feature space into regions and assigning the average target value of instances within each region.\n",
    "\n",
    ">>  **Random Forest Regression**: An ensemble method combining multiple decision tree regressors. It improves predictive accuracy and reduces overfitting by averaging the predictions of individual trees.\n",
    "\n",
    ">>  **Gradient Boosting Regression**: A boosting technique that builds an additive model in a forward stage-wise manner. It combines the predictions of weak learners (often decision trees) to create a strong predictive model.\n",
    "\n",
    "\n",
    "Each regression method has its own strengths, weaknesses, and applicability to different types of data and problem domains. The choice of which method to use depends on the nature of the data, the problem's requirements, and the desired level of interpretability and predictive accuracy."
   ]
  },
  {
   "cell_type": "markdown",
   "id": "sHh8cDV8-rSL",
   "metadata": {
    "id": "sHh8cDV8-rSL"
   },
   "source": [
    "\n",
    "\n",
    "---\n",
    "\n",
    "\n",
    "\n",
    "---\n",
    "\n"
   ]
  },
  {
   "cell_type": "markdown",
   "id": "271c79a2",
   "metadata": {
    "id": "271c79a2"
   },
   "source": [
    "## Define Cost Function\n",
    " **During training**, **cost Function** quantifies the **difference** betweeen **predicted values** generated by a model and the **actual ground truth values**. The cost function is specific to the learning algorithm and is used to **update the model's parameters iteratively** to improve its performance on the training data.\n",
    "\n",
    "The choice of a cost function depends on the nature of the problem—whether it's a classification, regression, or other type of task—and the desired properties of the model's predictions. Different algorithms and tasks require different types of cost functions.\n",
    "\n",
    "Examples:\n",
    "\n",
    "> ***Mean Squared Error*** (MSE): Used in regression tasks, it calculates the average squared difference between predicted and actual values. It penalizes larger errors more heavily.\n",
    "\n",
    "> ***Log Loss*** (Cross-Entropy Loss): Commonly used in classification tasks, especially in logistic regression and neural networks. It measures the dissimilarity between predicted probabilities and actual binary class labels.\n",
    "\n",
    "> ***Absolute Error*** (L1 Loss): Similar to MSE, but it computes the absolute difference between predicted and actual values. It's less sensitive to outliers compared to MSE."
   ]
  },
  {
   "cell_type": "markdown",
   "id": "wp5Ac-l1-qTv",
   "metadata": {
    "id": "wp5Ac-l1-qTv"
   },
   "source": [
    "\n",
    "\n",
    "---\n",
    "\n",
    "\n",
    "\n",
    "---\n",
    "\n"
   ]
  },
  {
   "cell_type": "markdown",
   "id": "d163dfce",
   "metadata": {
    "id": "d163dfce"
   },
   "source": [
    "## Training the Model\n",
    "### Gradient Descent\n",
    " An optimization technique to minimize the cost function and determine the optimal model parameters. It relies on the partial derivative of the cost function with respect to the model parameters to iteratively improve those parameters. An important parameter of Gradient Descent is the learning rate hyperparameter.\n",
    "\n",
    "**Gradient Descent** is an optimization technique used to minimize the cost function and find the optimal model parameters.\n",
    "\n",
    "\n",
    "> *Normal Equation vs Gradient Descent*\n",
    "\n",
    ">>The **normal equation** provides a closed-form solution to find the optimal parameters that minimize the cost function in linear regression. It is particularly useful when dealing with small to moderately sized datasets as it efficiently computes the optimal parameters directly.\n",
    "\n",
    ">>On the other hand, **gradient descent** is an iterative optimization algorithm that works well with large datasets and complex models. It iteratively updates model parameters in the direction of steepest descent, making it suitable for high-dimensional spaces and non-linear models.\n",
    "\n",
    ">>The two methods complement each other in machine learning. While the normal equation offers a straightforward analytical solution for simple cases, gradient descent shines in handling more complex scenarios, where computational efficiency and adaptability to various models and data sizes are paramount.\n",
    "\n",
    "\n",
    "The optimization techniques using Gradient Descent include the following approaches:\n",
    "\n",
    "\n",
    "*   **Batch Gradient Descent**: Updates model parameters using the entire training set.\n",
    "*   **Stochastic Gradient Descent** (SGD): Updates parameters based on a single training instance or a small batch of instances.\n",
    "*   **Mini-batch Gradient Descent**: A compromise between batch and SGD, updating parameters using a small batch of instances.\n",
    "\n",
    "\n",
    "\n",
    "| Category  | Advantages | Disadvantages |\n",
    "| ------------- | ------------- | -------------|\n",
    "| Batch Gradient Descent | Stable error gradient  | Requires entire training data in memory |\n",
    "|              | Parallelizable  | Slow model updates and convergence |\n",
    "| Stochastic Gradient Descent  | Avoids stucking in local minimas  | Noisy gradient and large variance during training |\n",
    "|              | Improvements in every model update  | Computationally intensive |\n",
    "| Mini-batch Gradient Descent  | Computationally efficient  | Extra hyperparameter to tune |\n",
    "|              | Smoother learning curves than SGD  | Need to accumulate error over batches |\n",
    "|              | Less memory intensive  | |\n",
    "\n",
    "\n",
    "\n",
    "\n",
    "---\n",
    "\n",
    "\n",
    "### Learning Rate\n",
    "**Learning Rate** is a small positive scalar value that controls the step size at each iteration during model training. It scales the gradient (derivative) of the loss function with respect to the model parameters.\n",
    "\n",
    "> Impact on Training: A high learning rate can lead to rapid convergence but risks overshooting the optimal solution, potentially causing the model to diverge. Conversely, a low learning rate can lead to slow convergence and might get stuck in local minima.\n",
    "\n",
    "> Learning rate is a crucial hyperparameter in machine learning algorithms, especially those that involve optimization techniques like gradient descent. It determines the size of the steps taken when updating model parameters during the training process. Understanding and setting an appropriate learning rate is vital, as it can significantly impact the training convergence, model performance, and the ability to find the optimal solution. In environmental science, where machine learning is applied to various prediction and forecasting tasks, choosing an appropriate learning rate is essential for achieving accurate and efficient models.\n",
    "\n",
    "![gradient.png](https://github.com/tbeucler/2023_MLEES_JB/blob/main/ML_EES/Saranya/Figures/gradient.png?raw=1)\n",
    "\n",
    "A suitable learning rate is very important and directly affects the likelihood for the ML model to reach the true minima. A small learning rate will result in a slow convergence, whereas a learning rate that is too large might render the model unable to reach the true minima.\n",
    "\n",
    "Fig 2: An Easy Guide to Gradient Descent in Machine Learning, Great Learning. ([link](https://www.mygreatlearning.com/blog/gradient-descent/))\n",
    "\n",
    "![batch-1.png](https://github.com/tbeucler/2023_MLEES_JB/blob/main/ML_EES/Saranya/Figures/batch-1.png?raw=1)\n",
    "\n",
    "The above figure shows the different ways the three gradient descent methods summarized above approaches the true minima. The SGD can have a very noisy learning process, whereas mini-batch is a compromise between SGD and the smooth batch method.\n",
    "\n",
    "Fig 3: Relation between Learning Rate and Batch Size, Baeldung. ([link](https://www.baeldung.com/cs/learning-rate-batch-size))\n",
    "\n",
    "\n",
    "Some examples:\n",
    "\n",
    "> Air Quality Forecasting: In predicting air quality levels, machine learning models may require careful tuning of the learning rate. An appropriately chosen learning rate can help the model converge to an accurate representation of air quality based on historical data.\n",
    "\n",
    "> Climate Modeling: Climate models often involve complex optimization problems. Setting the learning rate correctly can accelerate the training process and enable better understanding of climate patterns.\n",
    "\n",
    "> Hydrological Forecasting: When predicting river flows or flood levels, an optimal learning rate can ensure that hydrological models converge to accurate predictions, improving early warning systems.\n",
    "\n",
    "> Land Cover Classification: In tasks like land cover classification using remote sensing data, a well-tuned learning rate can help neural networks efficiently learn the intricate relationships between spectral bands and land cover types.\n",
    "\n",
    "> Ecosystem Modeling: Learning rates are essential in ecosystem models, where they affect the speed and stability of parameter estimation, allowing researchers to gain insights into ecosystem dynamics.\n"
   ]
  },
  {
   "cell_type": "markdown",
   "id": "qjA2ZVNZ-mvs",
   "metadata": {
    "id": "qjA2ZVNZ-mvs"
   },
   "source": [
    "\n",
    "\n",
    "---\n",
    "\n",
    "\n",
    "\n",
    "---\n",
    "\n"
   ]
  },
  {
   "cell_type": "markdown",
   "id": "_PqVaCu0yDSG",
   "metadata": {
    "id": "_PqVaCu0yDSG"
   },
   "source": [
    "## Evaluate Model Performance\n",
    "In Machine Learning, it is critical to make sure that your trained model can **generalize** well to **unseen data**. Model evaluation involves assessing the performance of a trained model using various metrics on a separate dataset (test set or validation set) that the model hasn't seen during training. For this purpose, we rely on different **performance metrics**.\n",
    "\n",
    "The most simple skill score for classification models is the ***Accuracy Score***, which is *the ratio between correct predictions and the total number of instances*.\n",
    "\n",
    "The accuracy score is intuitive and straight-forward, but using it to benchmark your classification models can be problematic for real data, particularly if you are dealing with *unbalanced data*.\n",
    "\n",
    "Assuming that 90\\% of your data belongs to the positive class, then the model can have no skills on preddicting negative class and still have a good precision score. 😲 It is definitely not ideal that your classification model can only give you one answer no matter how your samples look like!\n",
    "\n",
    "Fortunately, we have skill scores that are useful for unbalanced data. These scores balance the precision and the recall of a model.\n",
    "\n",
    "> ***Precision***: The ratio between correctly-predicted positives (True Positive; TP) and the number of instances the model predicted positive (True Positive + False Positive). \\\\\n",
    "> ***Recall***: The ratio between TP and the number of real positives in the data (True Positive + False Negative)."
   ]
  },
  {
   "cell_type": "markdown",
   "id": "JIP1fuBVwwqV",
   "metadata": {
    "id": "JIP1fuBVwwqV"
   },
   "source": [
    "Analyze misclassified instances to gain insights into model weaknesses and potential data issues. We can use a **Confusion Matrix** table to summary these information in an attractive visual format and how they impact the model's performance..\n",
    "\n",
    "![image](https://media.springernature.com/full/springer-static/image/art%3A10.1186%2Fs13040-018-0188-2/MediaObjects/13040_2018_188_Fig2_HTML.png?as=webp)\n",
    "\n",
    "Fig. 1 Confusion matrix (Bittrich et al. 2019)\n",
    "\n",
    "**Scikit-learn** provides a function to access the confusion matrix: \\\\\n",
    "`sklearn.metrics.confusion_matrix(y_true, y_pred)`"
   ]
  },
  {
   "cell_type": "markdown",
   "id": "df786102",
   "metadata": {
    "id": "df786102"
   },
   "source": [
    "The metric that balances precision and recall is the ***F1 Score***.\n",
    "\n",
    "> F1 Score: The harmonic mean of precision and recall, providing a balanced measure.\n",
    "\n",
    "ROC-AUC (Receiver Operating Characteristic - Area Under Curve), and PR-AUC (Precision-Recall Area Under Curve) are other metrics used for evaluation.\n",
    "> The **ROC curve** is a graphical representation that illustrates the trade-off between true positive rate (TPR) and false positive rate (FPR) across various thresholds.\n",
    "\n"
   ]
  },
  {
   "cell_type": "markdown",
   "id": "4c06007d",
   "metadata": {
    "id": "4c06007d"
   },
   "source": [
    "## Benchmarking\n",
    "Benchmarking a classifier involves assessing its performance against certain metrics and comparing it with other classifiers or established standards.\n",
    "\n"
   ]
  },
  {
   "cell_type": "markdown",
   "id": "hfCnHecnk0e1",
   "metadata": {
    "id": "hfCnHecnk0e1"
   },
   "source": [
    "\n",
    "\n",
    "---\n",
    "\n",
    "\n",
    "\n",
    "---\n",
    "\n"
   ]
  },
  {
   "cell_type": "markdown",
   "id": "077d2e7d",
   "metadata": {
    "id": "077d2e7d"
   },
   "source": [
    ">> ***Tips and Tricks*** 💡\n",
    "\n",
    "**Overfitting**: High-degree polynomials can lead to overfitting the training data.\n",
    "\n",
    "**Learning Rate Scheduling**: Adjusting the learning rate during training to converge faster and prevent overshooting."
   ]
  }
 ],
 "metadata": {
  "colab": {
   "include_colab_link": true,
   "provenance": []
  },
  "kernelspec": {
   "display_name": "Python 3 (ipykernel)",
   "language": "python",
   "name": "python3"
  },
  "language_info": {
   "codemirror_mode": {
    "name": "ipython",
    "version": 3
   },
   "file_extension": ".py",
   "mimetype": "text/x-python",
   "name": "python",
   "nbconvert_exporter": "python",
   "pygments_lexer": "ipython3",
   "version": "3.9.16"
  }
 },
 "nbformat": 4,
 "nbformat_minor": 5
}