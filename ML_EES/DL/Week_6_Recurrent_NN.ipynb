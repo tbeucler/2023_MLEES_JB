{
  "cells": [
    {
      "cell_type": "markdown",
      "metadata": {
        "id": "view-in-github",
        "colab_type": "text"
      },
      "source": [
        "<a href=\"https://colab.research.google.com/github/tbeucler/2023_MLEES_JB/blob/main/ML_EES/DL/Week_6_Recurrent_NN.ipynb\" target=\"_parent\"><img src=\"https://colab.research.google.com/assets/colab-badge.svg\" alt=\"Open In Colab\"/></a>"
      ]
    },
    {
      "cell_type": "markdown",
      "metadata": {
        "id": "jobt71avnVPS"
      },
      "source": [
        "# Recurrent Neural Networks and Hydrological Modeling"
      ]
    },
    {
      "cell_type": "markdown",
      "metadata": {
        "id": "5NmnSWj5oAAT"
      },
      "source": [
        "In this chapter, the learning objectives are:\n",
        "\n",
        "1.    Define a recurrent neural network\n",
        "\n",
        "2.    Distinguish recurrent from convolutional neural networks\n",
        "\n",
        "3.    Discuss the forecasting of environmental time series\n",
        "\n",
        "4.    Define natural language processing\n",
        "\n",
        "5.    Know at least three algorithms to process time-series (Vanilla RNN, LSTM,\n",
        "GRU\n",
        "Attention)\n",
        "\n",
        "\n",
        "The Exercises will help you to learn:\n",
        "\n",
        "1.    Implementing and training a recurrent neural network using [`Keras`].\n",
        "\n",
        "2.    Gain intuition on architecture design.\n",
        "\n",
        "3.    Cross-validate a recurrent neural network\n",
        "\n",
        "4.    Use a neural network to generate new data\n",
        "\n",
        "5.    Implementing an LSTM network for Hydrological Applications using [`PyTorch`]"
      ]
    },
    {
      "cell_type": "markdown",
      "metadata": {
        "id": "PCv20AwA_3r-"
      },
      "source": [
        "**This week's exercises:**"
      ]
    },
    {
      "cell_type": "markdown",
      "metadata": {
        "id": "ZwIvLOstucNV"
      },
      "source": [
        "1.    This exercise adapts Géron et al.'s Jupyter notebook exercises for [chapter 15](\"https://github.com/ageron/handson-ml2/blob/master/15_processing_sequences_using_rnns_and_cnns.ipynb\") \\([License](https://github.com/ageron/handson-ml2/blob/master/LICENSE)) of his book [\"Hands-On Machine Learning with Scikit-Learn, Keras, and TensorFlow, 2nd Edition\"](https://www.oreilly.com/library/view/hands-on-machine-learning/9781492032632/).\n",
        "\n",
        "\n",
        "2.    Adapts a watershed modeling exercise developed by Yikui Zhang (ETH Zurich) for Profs. Nadav Peleg & Peter Molnar, which focuses on modeling the Gsteig catchment."
      ]
    },
    {
      "cell_type": "markdown",
      "metadata": {
        "id": "5kqRUzTLpca0"
      },
      "source": [
        "If you are struggling with some of the exercises, do not hesitate to:\n",
        "\n",
        "\n",
        "*   Use a direct Internet search, or [stackoverflow](https://stackoverflow.com/)\n",
        "*   Ask your neighbor(s), the teacher, or the TA for help\n",
        "*   Debug your program, e.g. by following [this tutorial](https://swcarpentry.github.io/python-novice-inflammation/11-debugging/index.html)\n",
        "*   Use assertions, e.g. by following [this tutorial](https://swcarpentry.github.io/python-novice-inflammation/10-defensive/index.html)\n",
        "\n"
      ]
    },
    {
      "cell_type": "markdown",
      "metadata": {
        "id": "Pp_t7AeSARlQ"
      },
      "source": [
        "**Way to go with the flow 😎🌧🌧🏄🌧🌧**\n",
        "\n",
        "If you're done early, consider:\n",
        "\n",
        "*   Giving feedback on how to improve this notebook (typos, hints, exercises that may be improved/removed/added, etc.) by messaging the teacher and TA(s) on Moodle\n",
        "*   Working on your final project for this course.\n",
        "\n",
        "**Final Project**\n",
        "The final project’s goal is to answer a well-defined scientific question by applying one of the ML algorithms introduced in class on an environmental dataset of your choice (e.g., related to your Masters thesis or your PhD research).\n",
        "\n",
        "*   Now that you found a large environmental dataset linked to a scientific question you are passionate about, which machine learning algorithm can you use to address it? Is it a classification, a regression, or a data exploration project?\n",
        "*   How could you format the dataset to facilitate its manipulation in Python?\n",
        "*   If you're still hunting for a dataset of interest, consider browsing the [list of benchmark datasets](http://mldata.pangeo.io/index.html) maintained by [Pangeo](https://pangeo.io/) and [Kaggle](https://www.kaggle.com/datasets)."
      ]
    }
  ],
  "metadata": {
    "colab": {
      "provenance": [],
      "include_colab_link": true
    },
    "kernelspec": {
      "display_name": "Python 3 (ipykernel)",
      "language": "python",
      "name": "python3"
    },
    "language_info": {
      "codemirror_mode": {
        "name": "ipython",
        "version": 3
      },
      "file_extension": ".py",
      "mimetype": "text/x-python",
      "name": "python",
      "nbconvert_exporter": "python",
      "pygments_lexer": "ipython3",
      "version": "3.9.7"
    }
  },
  "nbformat": 4,
  "nbformat_minor": 0
}