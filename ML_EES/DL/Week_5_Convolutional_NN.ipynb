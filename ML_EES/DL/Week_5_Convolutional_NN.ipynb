{
  "cells": [
    {
      "cell_type": "markdown",
      "metadata": {
        "id": "IY2vdUC9L0_F"
      },
      "source": [
        "# Convolutional Neural Networks and Remote Sensing"
      ]
    },
    {
      "cell_type": "markdown",
      "source": [
        "In this chapter, our learning objectives are to:\n",
        "\n",
        "1.  Define a convolutional neural network (CNN)\n",
        "2.  Discuss the main applications of convolutional neural networks  \n",
        "3.  Know the steps to design and train a convolutional neural network\n",
        "4.  Define transfer learning and understand how to re-use pre-trained models\n",
        "\n",
        "\n",
        "In exercises, we will define and train CNNs using TensorFlow to\n",
        "1. Classify flowers 💐💐💐\n",
        "2. Classify land use and land cover ☕☕☕\n",
        "\n"
      ],
      "metadata": {
        "id": "-Y_3xDf0ixzV"
      }
    }
  ],
  "metadata": {
    "accelerator": "GPU",
    "colab": {
      "toc_visible": true,
      "provenance": []
    },
    "kernelspec": {
      "display_name": "Python 3",
      "name": "python3"
    },
    "language_info": {
      "name": "python"
    }
  },
  "nbformat": 4,
  "nbformat_minor": 0
}