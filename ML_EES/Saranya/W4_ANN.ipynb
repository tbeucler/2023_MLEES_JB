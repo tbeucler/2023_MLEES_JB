{
  "cells": [
    {
      "cell_type": "markdown",
      "metadata": {
        "id": "view-in-github",
        "colab_type": "text"
      },
      "source": [
        "<a href=\"https://colab.research.google.com/github/tbeucler/2023_MLEES_JB/blob/main/ML_EES/Saranya/W4_ANN.ipynb\" target=\"_parent\"><img src=\"https://colab.research.google.com/assets/colab-badge.svg\" alt=\"Open In Colab\"/></a>"
      ]
    },
    {
      "cell_type": "markdown",
      "id": "f9020423",
      "metadata": {
        "id": "f9020423"
      },
      "source": [
        "# Introduction to Artificial Neural Networks\n",
        "\n",
        "This chapter summarizes Chapter 10 of \"Hands-On Machine Learning with Scikit-Learn, Keras, and TensorFlow\" by Aurélien Géron which introduces the fundamentals of Artificial Neural Networks (ANNs).\n",
        "\n",
        "**Learning Objectives**:\n",
        "\n",
        "1. Define an artificial neural network\n",
        "2. Understand activation functions\n",
        "3. Understand the steps & best practices to build an artificial neural network\n",
        "4. Know the main hyperparameters defining a neural network’s architecture\n",
        "5. Know the main hyperparameters controlling the training of a neural network"
      ]
    },
    {
      "cell_type": "markdown",
      "id": "bfc81462",
      "metadata": {
        "id": "bfc81462"
      },
      "source": [
        "## Understanding Neural Networks:\n",
        "\n",
        "**Artificial Neural Networks** (ANNs) are computational models inspired by the human brain. They consist of interconnected nodes (neurons) organized in layers. Information flows through these nodes, undergoing weighted computations and transformations, allowing ANNs to learn patterns and relationships from data, used widely in machine learning tasks.\n",
        "\n",
        "> **Neurons**: Neurons are the basic building blocks of ANNs. They receive inputs, perform computations, and produce outputs.\n",
        "\n",
        "> **Layers**: ANNs consist of an input layer, one or more hidden layers, and an output layer.\n",
        "\n",
        "> **Activation Functions**: Activation functions introduce **non-linearity** to neurons, enabling the network to model complex relationships.\n",
        "\n",
        "> **Feed-forward Neural Networks** (FNNs): FNNs pass information in one direction, from input to output. They are used for tasks like classification and regression.\n",
        ">> Example: Building an FNN to classify species based on environmental data.\n",
        "\n",
        "> **Backpropagation**: Backpropagation is the training algorithm for ANNs. It adjusts the network's weights and biases to minimize the error.\n",
        ">> Example: Training an ANN to predict air quality based on historical data.\n",
        "\n",
        "> **Hyperparameter Tuning**: ANNs have numerous hyperparameters that influence their performance, including the number of layers, neurons per layer, and learning rate.\n",
        ">> Example: Experimenting with different network architectures to optimize accuracy in predicting forest fire occurrences.\n",
        "\n",
        "> **Overfitting** and **Regularization**: ANNs are susceptible to overfitting, where they memorize training data but perform poorly on new data.\n",
        ">> Techniques like dropout and early stopping mitigate overfitting.\n",
        ">> Example: Implementing dropout layers to improve the generalization of an ANN for predicting species distribution.\n",
        "\n",
        "\n",
        "> **Environmental Applications** 🌄: ANNs are used in environmental sciences for various tasks, such as weather forecasting, climate modeling, and remote sensing image analysis.\n",
        ">> Example: Using ANNs to predict rainfall patterns based on climate data for flood risk assessment.\n"
      ]
    },
    {
      "cell_type": "markdown",
      "id": "b18d0354",
      "metadata": {
        "id": "b18d0354"
      },
      "source": [
        "## Perceptron\n",
        "> A **perceptron** is one of the simplest ANN architectures, used for binary classification tasks. In its simplest form, composed of one input layer and one output layer, a perceptron takes multiple binary inputs, applies weights to these inputs, sums them up, adds a bias term, and then passes the result through an activation function (e.g. step function) to produce an output.\n",
        "\n",
        "Here's a breakdown of the components and the function of a perceptron:\n",
        "> **Inputs** (X1, X2, X3, ...): These are the features or inputs to the perceptron. Each input is assigned a weight (W1, W2, W3, ...) which determines its importance in the computation.\n",
        "> **Weights** (W1, W2, W3, ...): Weights are associated with each input and represent the strength of the connection between the input and the perceptron.\n",
        ">  **Summation** (Σ): The weighted sum of the inputs is calculated as follows:\n",
        ">> Sum = (X1 * W1) + (X2 * W2) + (X3 * W3) + ...\n",
        "\n",
        "> **Bias** (B): A bias term is added to the weighted sum. The bias allows the perceptron to shift its decision boundary.\n",
        "> Sum with Bias = Sum + B      \n",
        "> **Activation Function** (e.g., Step function): The result of the summation is passed through an activation function. The most common activation function for a perceptron is the step function. If the result is above a certain threshold, the perceptron outputs a \"1\" (or \"True\"); otherwise, it outputs a \"0\" (or \"False\").\n",
        "> **Output** = 1 if (Sum with Bias > Threshold), else 0\n",
        "\n",
        "Here is an environmental science 🌄 example where a perceptron can be used:\n",
        "\n",
        ">Perceptron for **Species Classification**:\n",
        "Imagine you're working on a project to identify whether a particular bird species is present in a given area based on environmental features like temperature, humidity, and vegetation density.\n",
        "You have data on the presence (1) or absence (0) of the bird species in different locations.\n",
        ">>In this scenario, you can use a perceptron to build a binary classifier. The inputs would be the environmental features (e.g., temperature, humidity, vegetation density), each with its corresponding weight representing its importance in determining bird presence. The perceptron computes the weighted sum of these inputs, adds a bias term, and passes the result through a step function. If the output is 1, it predicts the presence of the bird species; otherwise, it predicts absence.\n",
        "\n"
      ]
    },
    {
      "cell_type": "markdown",
      "id": "70562a42",
      "metadata": {
        "id": "70562a42"
      },
      "source": [
        "\n",
        "A single perceptron may have limitations in capturing complex relationships in environmental data, which calls for more complex neural network architectures, such as multi-layer perceptrons (MLPs).\n",
        "\n",
        "> **Multilayer Perceptron** (MLP)\n",
        ">> The stack of multiple perceptrons, composed of one input layer, one or more hidden layers, and one final output layer.\n"
      ]
    },
    {
      "cell_type": "markdown",
      "id": "9dce363b",
      "metadata": {
        "id": "9dce363b"
      },
      "source": [
        "## Create a Neural Network\n",
        "**Building a neural network** in practice involves several steps, from data preparation to model evaluation. Let's go through these steps using an example related to environmental science 🌄: predicting air quality based on meteorological data.\n",
        "\n",
        "> Step 1: **Data Collection and Preprocessing**\n",
        ">> Data Collection: Gather historical data containing meteorological variables (e.g., temperature, humidity, wind speed) and corresponding air quality measurements (e.g., PM2.5 levels).      \n",
        ">> Data Preprocessing: Clean the data by handling missing values, outliers, and scaling features to a similar range (e.g., using Min-Max scaling). Split the data into training and testing sets.\n",
        "\n",
        "> Step 2: **Model Selection and Architecture**\n",
        ">> Choose a Neural Network Architecture: Based on the problem, we select an *FNN*. Determine the number of input features (based on meteorological data) and the number of output neurons (1 for air quality prediction).\n",
        ">> Define the Model: Using a deep learning framework like `Keras`, define the neural network's architecture, including the number of hidden layers and neurons per layer, as well as the activation functions.\n",
        "\n",
        "For simplicity, let's create a model with one hidden layer."
      ]
    },
    {
      "cell_type": "code",
      "execution_count": null,
      "id": "4992c699",
      "metadata": {
        "id": "4992c699"
      },
      "outputs": [],
      "source": [
        "import tensorflow as tf\n",
        "from tensorflow import keras"
      ]
    },
    {
      "cell_type": "code",
      "execution_count": null,
      "id": "6872390c",
      "metadata": {
        "id": "6872390c"
      },
      "outputs": [],
      "source": [
        "model = keras.Sequential([\n",
        "    keras.layers.Dense(32, activation='relu', input_shape=(num_features,)),\n",
        "    keras.layers.Dense(1)  # Output layer for air quality prediction\n",
        "])"
      ]
    },
    {
      "cell_type": "markdown",
      "id": "c4eb54e7",
      "metadata": {
        "id": "c4eb54e7"
      },
      "source": [
        "> Step 3: **Compilation**\n",
        ">> Compile the Model: Specify the loss function (e.g., Mean Squared Error for regression tasks), the optimizer (e.g., Adam or SGD), and evaluation metrics (e.g., Mean Absolute Error).\n",
        "\n"
      ]
    },
    {
      "cell_type": "code",
      "execution_count": null,
      "id": "44b7fc4e",
      "metadata": {
        "id": "44b7fc4e"
      },
      "outputs": [],
      "source": [
        "model.compile(loss='mean_squared_error', optimizer='adam', metrics=['mean_absolute_error'])"
      ]
    },
    {
      "cell_type": "markdown",
      "id": "3b0a2c3b",
      "metadata": {
        "id": "3b0a2c3b"
      },
      "source": [
        "> Step 4: **Training**\n",
        ">> Train the Model: Use the training data to fit the neural network. Specify the number of epochs (iterations over the entire training dataset) and batch size.\n",
        "\n"
      ]
    },
    {
      "cell_type": "code",
      "execution_count": null,
      "id": "68f0abd8",
      "metadata": {
        "id": "68f0abd8"
      },
      "outputs": [],
      "source": [
        "history = model.fit(X_train, y_train, epochs=50, batch_size=32, validation_split=0.2)"
      ]
    },
    {
      "cell_type": "markdown",
      "id": "31d88276",
      "metadata": {
        "id": "31d88276"
      },
      "source": [
        "> Step 5: **Evaluation**\n",
        ">> Evaluate the Model: Use the testing data to assess the model's performance. Evaluate metrics like Mean Absolute Error (MAE) or Root Mean Squared Error (RMSE) to measure prediction accuracy.\n",
        "\n"
      ]
    },
    {
      "cell_type": "code",
      "execution_count": null,
      "id": "545005af",
      "metadata": {
        "id": "545005af"
      },
      "outputs": [],
      "source": [
        "test_loss, test_mae = model.evaluate(X_test, y_test)\n",
        "print(f\"Test MAE: {test_mae:.2f}\")"
      ]
    },
    {
      "cell_type": "markdown",
      "id": "45d861cc",
      "metadata": {
        "id": "45d861cc"
      },
      "source": [
        ">  Step 6: **Hyperparameter Tuning**\n",
        ">> **Hyperparameters defining the network architecture**:\n",
        ">> 1. **Number of Layers**: Defines the depth of the network.\n",
        ">> 2. **Number of Neurons per Layer**: Determines the width of each layer.\n",
        ">> 3. **Activation Functions**: Specifies the functions used to introduce non-linearity.\n",
        ">> 4. **Architecture-Specific Parameters**: Parameters unique to specific network types.\n",
        ">> **Hyperparameters controlling the training process**:\n",
        ">> 1. **Learning Rate**: Governs the step size in updating weights during training.\n",
        ">> 2. **Batch Size**: Specifies the number of samples processed before updating model parameters.\n",
        ">> 3. **Optimizer**: Algorithms adjusting weights during training (e.g., SGD, Adam, RMSprop).\n",
        ">> 4. **Regularization Techniques**: Methods to prevent overfitting (e.g., dropout rates, L1/L2 regularization).\n",
        ">> 5. **Initialization Schemes**: Initial values for weights and biases.\n",
        ">> 6. **Early Stopping**: Criterion to stop training based on validation performance.\n",
        ">> 7. **Training Epochs**: Number of iterations through the entire dataset during training.\n",
        "\n",
        ">  Step 7: **Deployment**\n",
        ">> Deploy the Model: Once satisfied with the model's performance, deploy it in a production environment. It can be used to make real-time air quality predictions based on incoming meteorological data.\n",
        "\n",
        "In this example, we've built a simple neural network for air quality prediction. In practice, you can enhance the model by incorporating more complex architectures (e.g., convolutional neural networks for image-based environmental data) and larger datasets. Neural networks in environmental science can be applied to various tasks, such as predicting pollutants, forecasting weather patterns, or modeling climate phenomena."
      ]
    },
    {
      "cell_type": "markdown",
      "id": "db4e76a8",
      "metadata": {
        "id": "db4e76a8"
      },
      "source": [
        ">> *Tips and Tricks* 💡\n",
        "\n",
        "*   **How many hidden layers?**\n",
        "\n",
        "> The choice of the number of hidden layers in a neural network depends on the complexity of the problem you're addressing. You can often *start with a few hidden layers and increase their number as needed*, while more complex tasks may involve *deep networks* or *transfer learning from pretrained models*.\n",
        ">>**Single Hidden Layer**: For many problems, starting with a single hidden layer can yield reasonable results. Such a network, theoretically, can model even complex functions when it has a sufficient number of neurons.\n",
        ">> Benefits of **Deep Networks**: In more complex problems, deep neural networks (DNNs) with multiple hidden layers are highly parameter-efficient. They can model complex functions using exponentially fewer neurons than shallow networks. This efficiency enables deep networks to achieve better performance with the same amount of training data.\n",
        ">> **Hierarchical Learning**: DNNs take advantage of the hierarchical nature of real-world data. Lower layers capture low-level structures (e.g., line segments), intermediate layers combine these to model intermediate-level structures (e.g., shapes), and the highest layers model high-level structures (e.g., faces). This hierarchical architecture aids convergence and generalization.\n",
        ">> **Transfer Learning**: Deep networks also enable transfer learning. When you want to train a new network for a related task, you can reuse the lower layers of a pre-trained network. This approach accelerates learning by building upon already learned low-level structures.\n",
        ">> **Network Complexity**: Start with one or two hidden layers for many problems. For instance, you can achieve high accuracy on tasks like MNIST with one or two hidden layers. As problems become more complex, you can increase the number of hidden layers. Very complex tasks, like large image classification or speech recognition, may require networks with many layers.\n",
        ">> **Pretrained Models**: For very complex tasks, it's common to use pretrained state-of-the-art networks and fine-tune them for the specific problem. This approach significantly speeds up training and requires less data.\n",
        "\n",
        "*    **How many neurons in the hidden layers?**\n",
        "\n",
        "> The number of neurons in hidden layers should be chosen based on the specific requirements of your task. Traditional pyramid-style sizing is less common, and *using the same number of neurons in all hidden layers* is often an effective and simpler approach. Consider the dataset and employ techniques to avoid overfitting.       \n",
        ">> **Input and Output Neurons**: The number of neurons in the input and output layers depends on the specific requirements of your task. For example, the MNIST dataset, with 28x28 pixel images, has 784 input neurons and 10 output neurons for digit classification.          \n",
        ">> **Hidden Layer Sizing**: Traditionally, hidden layers were often structured as a pyramid, with a decreasing number of neurons in each layer. The idea was that low-level features could combine into fewer high-level features. For MNIST, a neural network might have 3 hidden layers, with sizes like 300, 200, and 100.                               \n",
        ">> **Simplified Approach**: The practice of designing hidden layers as a pyramid has become less common. Using the same number of neurons in all hidden layers has been found to perform equally well or even better in most cases. This approach simplifies hyperparameter tuning.                      \n",
        ">> **First Layer Size**: In some cases, it may be beneficial to make the first hidden layer larger than the subsequent layers, depending on the dataset.     \n",
        ">> **Avoiding Overfitting**: You can gradually increase the number of neurons until the network starts overfitting. In practice, it's often simpler to choose a model with more layers and neurons than needed and then use techniques like early stopping and regularization to prevent overfitting.       \n",
        ">> **\"Stretch Pants\" Approach**: This approach, often referred to as \"stretch pants,\" involves starting with a larger model and allowing it to shrink down to the right size during training.\n",
        "\n"
      ]
    }
  ],
  "metadata": {
    "kernelspec": {
      "display_name": "Python 3 (ipykernel)",
      "language": "python",
      "name": "python3"
    },
    "language_info": {
      "codemirror_mode": {
        "name": "ipython",
        "version": 3
      },
      "file_extension": ".py",
      "mimetype": "text/x-python",
      "name": "python",
      "nbconvert_exporter": "python",
      "pygments_lexer": "ipython3",
      "version": "3.9.7"
    },
    "colab": {
      "provenance": [],
      "include_colab_link": true
    }
  },
  "nbformat": 4,
  "nbformat_minor": 5
}