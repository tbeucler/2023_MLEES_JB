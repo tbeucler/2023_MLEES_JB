{
 "cells": [
  {
   "cell_type": "markdown",
   "id": "0e9ad893",
   "metadata": {},
   "source": [
    "# Introduction to Artificial Neural Networks"
   ]
  },
  {
   "cell_type": "markdown",
   "id": "f9020423",
   "metadata": {},
   "source": [
    "**Summary**:\n",
    "Chapter 10 of \"Hands-On Machine Learning with Scikit-Learn, Keras, and TensorFlow\" by Aurélien Géron introduces the fundamentals of Artificial Neural Networks (ANNs). ANNs are a central component of deep learning, a subfield of machine learning inspired by the structure and function of the human brain. The chapter covers the basic concepts of ANNs, including neurons, layers, activation functions, and training algorithms. It also discusses the application of ANNs in solving complex problems."
   ]
  },
  {
   "cell_type": "markdown",
   "id": "4ff06b34",
   "metadata": {},
   "source": [
    "### **Learning Objectives:**\n",
    "\n",
    "1. Define an artificial neural network\n",
    "2. Understand activation functions\n",
    "3. Understand the steps & best practices to build an artificial neural network\n",
    "4. Know the main hyperparameters defining a neural network’s architecture\n",
    "5. Know the main hyperparameters controlling the training of a neural network\n",
    "\n"
   ]
  },
  {
   "cell_type": "markdown",
   "id": "bfc81462",
   "metadata": {},
   "source": [
    "### Understanding Neural Networks:\n",
    "\n",
    "> Neurons: Neurons are the basic building blocks of ANNs. They receive inputs, perform computations, and produce outputs.\n",
    "Layers: ANNs consist of an input layer, one or more hidden layers, and an output layer.\n",
    "\n",
    "> Activation Functions: Activation functions introduce non-linearity to neurons, enabling the network to model complex relationships.\n",
    "Tip: Visualize neurons and layers in ANNs as interconnected nodes. Understand the role of activation functions in introducing non-linearity.\n",
    "\n",
    "\n",
    "> Feed-forward Neural Networks (FNNs): FNNs pass information in one direction, from input to output. They are used for tasks like classification and regression.\n",
    "Learning Objectives: Learn how to build a simple FNN using Keras.\n",
    "Example: Building an FNN to classify species based on environmental data.\n",
    "\n",
    "> Backpropagation: Backpropagation is the training algorithm for ANNs. It adjusts the network's weights and biases to minimize the error.\n",
    "Learning Objectives: Understand the concept of gradient descent and backpropagation.\n",
    "Example: Training an ANN to predict air quality based on historical data.\n",
    "\n",
    "> Environmental Applications: ANNs are used in environmental sciences for various tasks, such as weather forecasting, climate modeling, and remote sensing image analysis.\n",
    "Learning Objectives: Explore how ANNs can be applied to environmental datasets.\n",
    "Example: Using ANNs to predict rainfall patterns based on climate data for flood risk assessment.\n",
    "\n",
    "> Hyperparameter Tuning: ANNs have numerous hyperparameters that influence their performance, including the number of layers, neurons per layer, and learning rate.\n",
    "Learning Objectives: Learn strategies for hyperparameter tuning.\n",
    "Example: Experimenting with different network architectures to optimize accuracy in predicting forest fire occurrences.\n",
    "\n",
    "> Overfitting and Regularization: ANNs are susceptible to overfitting, where they memorize training data but perform poorly on new data.\n",
    "Learning Objectives: Discover techniques like dropout and early stopping to mitigate overfitting.\n",
    "Example: Implementing dropout layers to improve the generalization of an ANN for predicting species distribution.\n"
   ]
  },
  {
   "cell_type": "markdown",
   "id": "519c4db8",
   "metadata": {},
   "source": [
    "### PERCEPTRON"
   ]
  },
  {
   "cell_type": "markdown",
   "id": "b18d0354",
   "metadata": {},
   "source": [
    "> A perceptron is a fundamental building block in artificial neural networks (ANNs). It's a simplified model of a biological neuron and is used for binary classification tasks. In its simplest form, a perceptron takes multiple binary inputs, applies weights to these inputs, sums them up, adds a bias term, and then passes the result through an activation function to produce an output.\n",
    "\n",
    "Here's a breakdown of the components and the function of a perceptron:\n",
    "\n",
    "> Inputs (X1, X2, X3, ...): These are the features or inputs to the perceptron. Each input is assigned a weight (W1, W2, W3, ...) which determines its importance in the computation.\n",
    "\n",
    "> Weights (W1, W2, W3, ...): Weights are associated with each input and represent the strength of the connection between the input and the perceptron.\n",
    "\n",
    "> Summation (Σ): The weighted sum of the inputs is calculated as follows:\n",
    "\n",
    "> Sum = (X1 * W1) + (X2 * W2) + (X3 * W3) + ...\n",
    "\n",
    "> Bias (B): A bias term is added to the weighted sum. The bias allows the perceptron to shift its decision boundary.\n",
    "\n",
    "> Sum with Bias = Sum + B\n",
    "\n",
    "> Activation Function (e.g., Step function): The result of the summation is passed through an activation function. The most common activation function for a perceptron is the step function. If the result is above a certain threshold, the perceptron outputs a \"1\" (or \"True\"); otherwise, it outputs a \"0\" (or \"False\").\n",
    "\n",
    "> Output = 1 if (Sum with Bias > Threshold), else 0\n"
   ]
  },
  {
   "cell_type": "markdown",
   "id": "70562a42",
   "metadata": {},
   "source": [
    "Here is an environmental science example where a perceptron can be used:\n",
    "\n",
    ">Perceptron for Species Classification:\n",
    "Imagine you're working on a project to identify whether a particular bird species is present in a given area based on environmental features like temperature, humidity, and vegetation density. You have data on the presence (1) or absence (0) of the bird species in different locations.\n",
    "\n",
    ">In this scenario, you can use a perceptron to build a binary classifier. The inputs would be the environmental features (e.g., temperature, humidity, vegetation density), each with its corresponding weight representing its importance in determining bird presence. The perceptron computes the weighted sum of these inputs, adds a bias term, and passes the result through a step function. If the output is 1, it predicts the presence of the bird species; otherwise, it predicts absence.\n",
    "\n",
    "However, it's important to note that a single perceptron may have limitations in capturing complex relationships in environmental data. In practice, more complex neural network architectures, such as multi-layer perceptrons (MLPs) or convolutional neural networks (CNNs), are often used for environmental classification tasks due to their ability to model intricate patterns in data."
   ]
  },
  {
   "cell_type": "markdown",
   "id": "9dce363b",
   "metadata": {},
   "source": [
    "### CREATE A NEURAL NETWORK"
   ]
  },
  {
   "cell_type": "markdown",
   "id": "914f4ce9",
   "metadata": {},
   "source": [
    "**Building a neural network in practice involves several steps, from data preparation to model evaluation. Let's go through these steps using an example related to environmental science: predicting air quality based on meteorological data. We'll create a simple feedforward neural network for this task.**\n"
   ]
  },
  {
   "cell_type": "markdown",
   "id": "d656103f",
   "metadata": {},
   "source": [
    "\n",
    "> Step 1: Data Collection and Preprocessing\n",
    "\n",
    "Data Collection: Gather historical data containing meteorological variables (e.g., temperature, humidity, wind speed) and corresponding air quality measurements (e.g., PM2.5 levels).\n",
    "\n",
    "Data Preprocessing: Clean the data by handling missing values, outliers, and scaling features to a similar range (e.g., using Min-Max scaling). Split the data into training and testing sets.\n",
    "\n",
    "> Step 2: Model Selection and Architecture\n",
    "\n",
    "Choose a Neural Network Architecture: For this example, let's use a feedforward neural network (FNN). Determine the number of input features (based on meteorological data) and the number of output neurons (1 for air quality prediction).\n",
    "\n",
    "Define the Model: Using a deep learning framework like Keras, define the neural network's architecture, including the number of hidden layers and neurons per layer, as well as the activation functions. For simplicity, let's create a model with one hidden layer.\n"
   ]
  },
  {
   "cell_type": "code",
   "execution_count": null,
   "id": "4992c699",
   "metadata": {},
   "outputs": [],
   "source": [
    "import tensorflow as tf\n",
    "from tensorflow import keras"
   ]
  },
  {
   "cell_type": "code",
   "execution_count": null,
   "id": "6872390c",
   "metadata": {},
   "outputs": [],
   "source": [
    "model = keras.Sequential([\n",
    "    keras.layers.Dense(32, activation='relu', input_shape=(num_features,)),\n",
    "    keras.layers.Dense(1)  # Output layer for air quality prediction\n",
    "])"
   ]
  },
  {
   "cell_type": "markdown",
   "id": "c4eb54e7",
   "metadata": {},
   "source": [
    "> Step 3: Compilation\n",
    "\n",
    "Compile the Model: Specify the loss function (e.g., Mean Squared Error for regression tasks), the optimizer (e.g., Adam or SGD), and evaluation metrics (e.g., Mean Absolute Error).\n",
    "\n"
   ]
  },
  {
   "cell_type": "code",
   "execution_count": null,
   "id": "44b7fc4e",
   "metadata": {},
   "outputs": [],
   "source": [
    "model.compile(loss='mean_squared_error', optimizer='adam', metrics=['mean_absolute_error'])"
   ]
  },
  {
   "cell_type": "markdown",
   "id": "3b0a2c3b",
   "metadata": {},
   "source": [
    "> Step 4: Training\n",
    "\n",
    "Train the Model: Use the training data to fit the neural network. Specify the number of epochs (iterations over the entire training dataset) and batch size.\n",
    "\n"
   ]
  },
  {
   "cell_type": "code",
   "execution_count": null,
   "id": "68f0abd8",
   "metadata": {},
   "outputs": [],
   "source": [
    "history = model.fit(X_train, y_train, epochs=50, batch_size=32, validation_split=0.2)"
   ]
  },
  {
   "cell_type": "markdown",
   "id": "31d88276",
   "metadata": {},
   "source": [
    "> Step 5: Evaluation\n",
    "\n",
    "Evaluate the Model: Use the testing data to assess the model's performance. Evaluate metrics like Mean Absolute Error (MAE) or Root Mean Squared Error (RMSE) to measure prediction accuracy.\n",
    "\n"
   ]
  },
  {
   "cell_type": "code",
   "execution_count": null,
   "id": "545005af",
   "metadata": {},
   "outputs": [],
   "source": [
    "test_loss, test_mae = model.evaluate(X_test, y_test)\n",
    "print(f\"Test MAE: {test_mae:.2f}\")"
   ]
  },
  {
   "cell_type": "markdown",
   "id": "45d861cc",
   "metadata": {},
   "source": [
    ">  Step 6: Hyperparameter Tuning\n",
    "\n",
    "Optimize Hyperparameters: Experiment with different hyperparameters (e.g., learning rate, number of neurons, number of hidden layers) to improve model performance.\n",
    "\n",
    ">  Step 7: Deployment\n",
    "\n",
    "Deploy the Model: Once satisfied with the model's performance, deploy it in a production environment. It can be used to make real-time air quality predictions based on incoming meteorological data.\n",
    "In this example, we've built a simple neural network for air quality prediction. In practice, you can enhance the model by incorporating more complex architectures (e.g., convolutional neural networks for image-based environmental data) and larger datasets. Neural networks in environmental science can be applied to various tasks, such as predicting pollutants, forecasting weather patterns, or modeling climate phenomena."
   ]
  },
  {
   "cell_type": "markdown",
   "id": "db4e76a8",
   "metadata": {},
   "source": [
    "**Deep Neural Networks (DNNs):**\n",
    "\n",
    "DNNs are ANNs with multiple hidden layers. They excel at capturing intricate patterns.\n",
    "Learning Objectives: Explore the benefits and challenges of deep networks.\n",
    "Example: Using a DNN to analyze satellite imagery for deforestation detection.\n",
    "\n",
    "**Convolutional Neural Networks (CNNs) and Recurrent Neural Networks (RNNs):**\n",
    "\n",
    "CNNs are suited for image and spatial data, while RNNs handle sequential data.\n",
    "Learning Objectives: Understand when to use CNNs and RNNs in environmental applications.\n",
    "Example: Applying CNNs to identify land cover types from satellite images."
   ]
  },
  {
   "cell_type": "markdown",
   "id": "66630c26",
   "metadata": {},
   "source": [
    "By the end of this week, students should be able to create, train, and evaluate basic ANNs for environmental applications, recognize overfitting, and employ regularization techniques. They will also understand the potential of deep networks like CNNs and RNNs in analyzing complex environmental data. "
   ]
  }
 ],
 "metadata": {
  "kernelspec": {
   "display_name": "Python 3 (ipykernel)",
   "language": "python",
   "name": "python3"
  },
  "language_info": {
   "codemirror_mode": {
    "name": "ipython",
    "version": 3
   },
   "file_extension": ".py",
   "mimetype": "text/x-python",
   "name": "python",
   "nbconvert_exporter": "python",
   "pygments_lexer": "ipython3",
   "version": "3.9.7"
  }
 },
 "nbformat": 4,
 "nbformat_minor": 5
}
